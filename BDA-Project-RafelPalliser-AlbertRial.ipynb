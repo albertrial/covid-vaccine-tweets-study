{
 "cells": [
  {
   "cell_type": "markdown",
   "metadata": {},
   "source": [
    "<center>\n",
    "    <h1> Study of the Covid-19 Vaccine Acceptance</h1>\n",
    "    <h4> BDA Fall 2020 - Final Project </h4>\n",
    "    <hr>\n",
    "    <br><br>\n",
    "    <h3>Rafel Palliser & Albert Rial</h3>\n",
    "    <br><br>\n",
    "</center>"
   ]
  },
  {
   "cell_type": "markdown",
   "metadata": {},
   "source": [
    "## 1. Problem description"
   ]
  },
  {
   "cell_type": "markdown",
   "metadata": {},
   "source": [
    "The goal of this study is to analyze the acceptance of the Covid-19 Vaccine by examinating tweets referring to it. We truly think this is an important study because Covid-19 has drastically changed our lives, and its vaccine could change them again."
   ]
  },
  {
   "cell_type": "markdown",
   "metadata": {},
   "source": [
    "The followed pipeline starts by gathering the data throughout the Twitter API and storing it into a MongoDB. Once done, we perform a first data exploration to study the different fields contained in a tweet, and if there are missing values in the fields we need for our analysis. Afterwards, the data is processed and cleaned in order to be completely prepared for the study of the vaccine acceptance."
   ]
  },
  {
   "cell_type": "markdown",
   "metadata": {},
   "source": [
    "ALGO MAS?!?"
   ]
  },
  {
   "cell_type": "markdown",
   "metadata": {},
   "source": [
    "Introducció:\n",
    "- Storytelling\n",
    "- (Done) Com fer la query? Quina? (volíem dades al llarg de molt temps, no d'un instant concret)\n",
    "- (Done) covid té hashtag, vacuna no --> triar idiomes --> query #covid 24h ......\n",
    "\n",
    "Data Exploration:\n",
    "- Estudi de fields\n",
    "- Quants són rt, originals, ..?\n",
    "- Estudi de missing values i com estan codificats dels que ens afecten (text, geo)\n",
    "- Explicar GEO!!!\n",
    "- Distribució idiomes\n",
    "- Llista / Mapa d'on estan els tweets\n",
    "- Evolució del nb de tweets al llarg del temps (histograma..) (incloure notícies)\n",
    "- Llista de top hashtags\n",
    "- Llista top words (exclude stopwords,...)?\n",
    "\n",
    "Estudi. Study on the acceptance of covid-19 vaccine:\n",
    "- Mapa / Dist d'on es parla més de cada vacuna (mirar la distribució de la vacuna que es parla més segons el país)\n",
    "- Evolució del sentiment al llarg del temps (relació amb notícies)\n",
    "- Evolució del sentiment al llarg del temps de cada vacuna\n",
    "- Sentiment segons pais. Mapa global de pro-vaccine i anti-vaccine\n",
    "- Sentiment segons pais i vacuna?\n",
    "\n",
    "Hagués estat bé tenir edat/sexe per fer estudi sociologic però no el tenim."
   ]
  },
  {
   "cell_type": "markdown",
   "metadata": {},
   "source": [
    "## 2. Data gathering and storage"
   ]
  },
  {
   "cell_type": "markdown",
   "metadata": {},
   "source": [
    "Data gathering is one of the most important parts of a data project or analysis, although it may not seem so. Sometimes the researcher cannot control this part because others gathered the data, and have to face other more complicated problems to process it and extract valuable information. In this project, we have the opportunity to design the data gathering process, and that's why we have spend much time on it.\n",
    "\n",
    "The constraints on our data gathering process come from the theme of this project, Covid-19 Vaccine Acceptance, and the source we have decided to use, Twitter. Knowing that one of the key interaction factors of this social network are the use of hashtags, we noticed the fact that the Covid-19 Vaccine has not a hashtag associated to it, or at least not a global one in a similar way that Covid-19 has #Covid, #Covid19 or #Covid-19.\n",
    "\n",
    "Also, the word vaccine is written in different ways depending on the language, so in order to not introduce a large bias on languages due to our query, we made a preliminar study of the most used languages in tweets talking about Covid-19. Trying to be as fair as possible, we collected tweets for exactly 24h (to not discriminate any time zone) containing one of the mentioned hashtags associated with Covid-19. We are aware that countries using a non-latin alphabet may refer to the virus in a different way, but we don't aim to obtain tweets in those languages as we won't be able to process the tweet text in our analysis. Taking this into account, we obtained the following results:"
   ]
  },
  {
   "cell_type": "code",
   "execution_count": 1,
   "metadata": {},
   "outputs": [],
   "source": [
    "import pymongo\n",
    "from src.keys import MONGODB_KEY\n",
    "from bson.son import SON\n",
    "\n",
    "client = pymongo.MongoClient('fpsds.synology.me', 27017, username='mongoadmin', password=MONGODB_KEY)\n",
    "tweets = client['tweets']['covid_hashtags_24h']"
   ]
  },
  {
   "cell_type": "code",
   "execution_count": 2,
   "metadata": {},
   "outputs": [
    {
     "name": "stdout",
     "output_type": "stream",
     "text": [
      "Lang         %       Acc %\n",
      "en      61.58%      61.58%\n",
      "es      17.08%      78.66%\n",
      "fr       5.11%      83.77%\n",
      "it       2.87%      86.63%\n",
      "und      2.26%      88.90%\n",
      "de       1.98%      90.88%\n",
      "in       1.42%      92.30%\n",
      "hi       1.22%      93.52%\n",
      "ja       0.95%      94.47%\n",
      "pt       0.93%      95.41%\n"
     ]
    }
   ],
   "source": [
    "pipeline = [\n",
    "    {'$group': {'_id': '$lang', 'count': {'$sum': 1}}},\n",
    "    {\"$sort\": SON([(\"count\", pymongo.DESCENDING)])},\n",
    "    {'$limit': 10}\n",
    "]\n",
    "tot = tweets.count_documents({})\n",
    "res = tweets.aggregate(pipeline)\n",
    "acc = 0\n",
    "langs = []\n",
    "counts = []\n",
    "print('Lang         %       Acc %')\n",
    "for lang in res:\n",
    "    langs.append(lang['_id'])\n",
    "    counts.append(lang['count'])\n",
    "    acc += lang['count']\n",
    "    print('{:4s}    {:5.2f}%      {:5.2f}%'.format(lang['_id'], 100*lang['count']/tot, 100*acc/tot))"
   ]
  },
  {
   "cell_type": "code",
   "execution_count": 5,
   "metadata": {
    "scrolled": true
   },
   "outputs": [
    {
     "data": {
      "image/png": "[encoded data removed]",
      "text/plain": [
       "<Figure size 432x288 with 1 Axes>"
      ]
     },
     "metadata": {
      "needs_background": "light"
     },
     "output_type": "display_data"
    }
   ],
   "source": [
    "from src.plots import barplot\n",
    "barplot(langs, counts, 'Most used languages', 'languages', 'tweet count')"
   ]
  },
  {
   "cell_type": "markdown",
   "metadata": {},
   "source": [
    "Note that more than 60% of tweets are written in English, and another 17% in Spanish. The following most used language is French, which appears in 5% of the tweets, and the subsequent languages are only used in less than 3% of tweets. Looking at the histogram, it seems that the most logical choice would be to only look for tweets written in English. However, as these only cover the 60% of the gathered ones, we decided to also look after the Spanish ones, thus increasing our coverage to almost 80%.\n",
    "\n",
    "Note that this is an approximation, assuming the tweets talking about the Covid-19 vaccine follow the same language distribution that the ones talking about Covid-19 generally."
   ]
  },
  {
   "cell_type": "markdown",
   "metadata": {},
   "source": [
    "### The actual data gathering process"
   ]
  },
  {
   "cell_type": "markdown",
   "metadata": {},
   "source": [
    "The [Twitter API](https://developer.twitter.com/en) provides two main ways of gathering tweets. On one side we have the streaming option, which gets the tweets matching a certain query in real time. On the other, we have the option of dowloading indexed tweets from their database, from which one can download data from the 7-10 prior days with a free developer account.\n",
    "\n",
    "After testing both options, we decided to go for the second one, as we could make queries every 7 days and obtain the tweets for the whole period without having to leave a computer running a script 24/7, much more time. Also, we predicted (now confirmed) that during December the vaccine topic would become more and more trendy, so we wanted to download tweets for a long period of time.\n",
    "\n",
    "[src/collect_tweets.py](src/collect_tweets.py) is the script we have been using to download tweets and insert them in a database. We decided to not include the code in this notebook but leave it in a separate file because we run it asynchronously. In the file, one can see we have used [Tweepy](https://www.tweepy.org/) (a python library wrapping the Twitter API) and the actual parameters we have used to gather tweets. Apart from 'since', and 'until', which serve to control the period of time from we desire to download tweets, the most important one is the query itself: **'#covid OR #covid19 vaccine OR vacuna'**.\n",
    "\n",
    "In the [documentation](https://developer.twitter.com/en/docs/twitter-api/v1/tweets/search/guides/standard-operators) it can be easily seen that the 'OR' operator works as a logical OR betweet the two contiguous terms, and a simple whitespace works as an AND. Therefore, we are looking for tweets that contain (#covid or #covid19) and (vaccine or vacuna). The first part is to ensure the resulting tweets refer to the Covid-19 vaccine (note that #covid also matches #covid-19, so we are covering all the three most-used global hashtags for Covid-19). The second part is to ensure that the tweets specifically refer to the vaccine, and we include the word in English and Spanish as we decided in the previous language study because there is not a unified term to refer to the vaccine globaly. Note that we search for the word and not the hashtag, because although local hashtags #vaccine or #vacuna exists, few people use them. Also note that the way the Twitter search work, our query 'vaccine' also matches a possible hashtag '#vaccine', so we are not losing these results.\n",
    "\n",
    "We have been running this script from November, 29 to XXXX and collected a total amount of XXXX tweets, which have been stored into a MongoDB database."
   ]
  },
  {
   "cell_type": "markdown",
   "metadata": {},
   "source": [
    "### Storage"
   ]
  },
  {
   "cell_type": "markdown",
   "metadata": {},
   "source": [
    "Relational databases are a efficient solution for storage, but require strictly structured data, which does not directly match with tweets, which come in a json format and with several different fields depending on the type of tweet. For this reason, we have decided to use a NoSQL database. Specificaly we have chosen [MongoDB](https://www.mongodb.com/es), which is document oriented and matches the data type perfectly (json-like objects). The fact that we already know its language and it has a Python library ([PyMongo](https://pypi.org/project/pymongo/)) ready to use also played a role in our decision.\n",
    "\n",
    "For this project, we set up a MongoDB server using [Docker](https://www.docker.com/), and left it running in a machine which is visible in the public network, so we are able to work from home with an online, up-to-date and synchronized database, which is always available."
   ]
  },
  {
   "cell_type": "markdown",
   "metadata": {},
   "source": [
    "## 3. Data description"
   ]
  },
  {
   "cell_type": "markdown",
   "metadata": {},
   "source": [
    "**Connection with the DB**"
   ]
  },
  {
   "cell_type": "code",
   "execution_count": 1,
   "metadata": {},
   "outputs": [
    {
     "name": "stdout",
     "output_type": "stream",
     "text": [
      "['admin', 'config', 'geo', 'local', 'tweets']\n"
     ]
    }
   ],
   "source": [
    "import json\n",
    "import pymongo\n",
    "from keys import MONGODB_KEY\n",
    "from pymongo import MongoClient\n",
    "\n",
    "client = pymongo.MongoClient('fpsds.synology.me', 27017, username='mongoadmin', password=MONGODB_KEY)\n",
    "\n",
    "# let's get the list of DBs already defined\n",
    "print(client.list_database_names())\n",
    "\n",
    "# Get the DB we want to use\n",
    "tweets = client['tweets']['#covid_vaccine']"
   ]
  },
  {
   "cell_type": "code",
   "execution_count": 8,
   "metadata": {},
   "outputs": [],
   "source": [
    "from bson.son import SON"
   ]
  },
  {
   "cell_type": "markdown",
   "metadata": {},
   "source": [
    "Show an example of data sample"
   ]
  },
  {
   "cell_type": "code",
   "execution_count": 27,
   "metadata": {},
   "outputs": [
    {
     "data": {
      "text/plain": [
       "{'_id': 1334789658442665985,\n",
       " 'created_at': 'Fri Dec 04 09:20:28 +0000 2020',\n",
       " 'full_text': 'RT @21WIRE: UPDATE: Despite concerns about safety &amp; trial design, countries are already spending billions of dollars in taxpayer funds to p…',\n",
       " 'display_text_range': [0, 144],\n",
       " 'entities': {'hashtags': [],\n",
       "  'symbols': [],\n",
       "  'user_mentions': [{'screen_name': '21WIRE',\n",
       "    'name': 'Patrick Henningsen',\n",
       "    'id': 16936686,\n",
       "    'id_str': '16936686',\n",
       "    'indices': [3, 10]}],\n",
       "  'urls': []},\n",
       " 'metadata': {'iso_language_code': 'en', 'result_type': 'recent'},\n",
       " 'geo': None,\n",
       " 'coordinates': None,\n",
       " 'place': None,\n",
       " 'retweet_count': 25,\n",
       " 'favorite_count': 0}"
      ]
     },
     "execution_count": 27,
     "metadata": {},
     "output_type": "execute_result"
    }
   ],
   "source": [
    "tweets.find_one({})"
   ]
  },
  {
   "cell_type": "markdown",
   "metadata": {},
   "source": [
    "**Count the total number of tweets on the database and the number of tweets with geolocation**"
   ]
  },
  {
   "cell_type": "code",
   "execution_count": 16,
   "metadata": {},
   "outputs": [
    {
     "name": "stdout",
     "output_type": "stream",
     "text": [
      "Total number of tweets: 68822\n"
     ]
    }
   ],
   "source": [
    "print(\"Total number of tweets:\", tweets.count_documents({}))"
   ]
  },
  {
   "cell_type": "code",
   "execution_count": 26,
   "metadata": {},
   "outputs": [
    {
     "name": "stdout",
     "output_type": "stream",
     "text": [
      "Number of tweets with geolocation: 931\n"
     ]
    }
   ],
   "source": [
    "count_with_geo = tweets.count_documents({'$or': [\n",
    "                                                {'geo': {'$ne': None}}, \n",
    "                                                {'coordinates': {'$ne': None}},\n",
    "                                                {'place': {'$ne': None}}\n",
    "                                        ]},{})\n",
    "print(\"Number of tweets with geolocation:\", count_with_geo)"
   ]
  },
  {
   "cell_type": "markdown",
   "metadata": {},
   "source": [
    "**Top 25 vaccine related hashtags**"
   ]
  },
  {
   "cell_type": "code",
   "execution_count": 37,
   "metadata": {},
   "outputs": [
    {
     "name": "stdout",
     "output_type": "stream",
     "text": [
      "{'_id': 'vaccine', 'count': 42747}\n",
      "{'_id': 'COVID19', 'count': 15302}\n",
      "{'_id': 'Vaccine', 'count': 9458}\n",
      "{'_id': 'coronavirus', 'count': 3461}\n",
      "{'_id': 'COVID', 'count': 3160}\n",
      "{'_id': 'Covid', 'count': 3068}\n",
      "{'_id': 'Pfizer', 'count': 2682}\n",
      "{'_id': 'Covid19', 'count': 2489}\n",
      "{'_id': 'CovidVaccine', 'count': 2459}\n",
      "{'_id': 'patents', 'count': 1854}\n",
      "{'_id': 'COVIDー19', 'count': 1818}\n",
      "{'_id': 'covid19', 'count': 1412}\n",
      "{'_id': 'AstraZeneca', 'count': 1315}\n",
      "{'_id': 'vaccination', 'count': 1207}\n",
      "{'_id': 'covid', 'count': 1167}\n",
      "{'_id': 'UK', 'count': 1123}\n",
      "{'_id': 'BillGates', 'count': 962}\n",
      "{'_id': 'pandemic', 'count': 794}\n",
      "{'_id': 'Vaccination', 'count': 789}\n",
      "{'_id': 'cdc', 'count': 783}\n",
      "{'_id': 'Moderna', 'count': 777}\n",
      "{'_id': 'vaccines', 'count': 766}\n",
      "{'_id': 'GatesFoundation', 'count': 736}\n",
      "{'_id': 'UN', 'count': 721}\n",
      "{'_id': 'GAVI', 'count': 718}\n"
     ]
    }
   ],
   "source": [
    "from bson.son import SON\n",
    "\n",
    "pipeline = [\n",
    "        {'$unwind': \"$entities.hashtags\" },\n",
    "        {'$group': {'_id': '$entities.hashtags.text', 'count': {'$sum': 1}}},\n",
    "        {\"$sort\": SON([(\"count\", pymongo.DESCENDING)])},\n",
    "        {'$limit': 25}\n",
    "    ]\n",
    "\n",
    "res = tweets.aggregate(pipeline)\n",
    "for sample in res:\n",
    "    print(sample)"
   ]
  },
  {
   "cell_type": "code",
   "execution_count": null,
   "metadata": {},
   "outputs": [],
   "source": []
  },
  {
   "cell_type": "code",
   "execution_count": null,
   "metadata": {},
   "outputs": [],
   "source": []
  },
  {
   "cell_type": "code",
   "execution_count": null,
   "metadata": {},
   "outputs": [],
   "source": []
  },
  {
   "cell_type": "code",
   "execution_count": 2,
   "metadata": {},
   "outputs": [
    {
     "name": "stdout",
     "output_type": "stream",
     "text": [
      "721077\n"
     ]
    }
   ],
   "source": [
    "r = tweets.count_documents({})\n",
    "print(r)"
   ]
  },
  {
   "cell_type": "code",
   "execution_count": 4,
   "metadata": {},
   "outputs": [
    {
     "name": "stdout",
     "output_type": "stream",
     "text": [
      "4980 0.6906335939157676\n",
      "108 0.014977596012631106\n",
      "108 0.014977596012631106\n"
     ]
    }
   ],
   "source": [
    "have_place = tweets.count_documents({'place': {'$ne': None}})\n",
    "have_geo = tweets.count_documents({'geo': {'$ne': None}})\n",
    "have_coordinates = tweets.count_documents({'coordinates': {'$ne': None}})\n",
    "print(have_place, 100*have_place/r)\n",
    "print(have_geo, 100*have_geo/r)\n",
    "print(have_coordinates, 100*have_coordinates/r)"
   ]
  },
  {
   "cell_type": "code",
   "execution_count": 5,
   "metadata": {},
   "outputs": [
    {
     "name": "stdout",
     "output_type": "stream",
     "text": [
      "504936 70.02525389105463\n"
     ]
    }
   ],
   "source": [
    "have_user_loc = tweets.count_documents({'user.location': {'$ne': ''}})\n",
    "print(have_user_loc, 100*have_user_loc/r)"
   ]
  },
  {
   "cell_type": "code",
   "execution_count": 6,
   "metadata": {},
   "outputs": [
    {
     "name": "stdout",
     "output_type": "stream",
     "text": [
      "353979 49.0903190643995\n"
     ]
    }
   ],
   "source": [
    "have_my_geo = tweets.count_documents({'my_geo': {'$ne': None}})\n",
    "print(have_my_geo, 100*have_my_geo/r)"
   ]
  },
  {
   "cell_type": "code",
   "execution_count": 13,
   "metadata": {},
   "outputs": [
    {
     "name": "stdout",
     "output_type": "stream",
     "text": [
      "{'_id': 'en', 'count': 531462}\n",
      "{'_id': 'es', 'count': 106193}\n",
      "{'_id': 'fr', 'count': 57837}\n",
      "{'_id': 'und', 'count': 7199}\n",
      "{'_id': 'hi', 'count': 3637}\n",
      "{'_id': 'nl', 'count': 2285}\n",
      "{'_id': 'ca', 'count': 1801}\n",
      "{'_id': 'in', 'count': 1378}\n",
      "{'_id': 'tl', 'count': 1190}\n",
      "{'_id': 'pt', 'count': 963}\n"
     ]
    }
   ],
   "source": [
    "pip = [\n",
    "    {'$group': {'_id': '$lang', 'count': {'$sum': 1}}},\n",
    "    {'$sort': SON([('count', pymongo.DESCENDING)])},\n",
    "    {'$limit': 10}\n",
    "]\n",
    "languages = tweets.aggregate(pip)\n",
    "for lang in languages:\n",
    "    print(lang)"
   ]
  },
  {
   "cell_type": "code",
   "execution_count": 14,
   "metadata": {},
   "outputs": [
    {
     "name": "stdout",
     "output_type": "stream",
     "text": [
      "{'_id': 'United States', 'count': 177805}\n",
      "{'_id': 'United Kingdom', 'count': 32726}\n",
      "{'_id': 'Canada', 'count': 24412}\n",
      "{'_id': 'India', 'count': 17992}\n",
      "{'_id': 'France', 'count': 16476}\n",
      "{'_id': 'Mexico', 'count': 8866}\n",
      "{'_id': 'Spain', 'count': 7249}\n",
      "{'_id': 'Ecuador', 'count': 5053}\n",
      "{'_id': 'Australia', 'count': 3793}\n",
      "{'_id': 'Germany', 'count': 3237}\n"
     ]
    }
   ],
   "source": [
    "pip = [\n",
    "    {'$match': {'my_geo': {'$ne': None}}},\n",
    "    {'$group': {'_id': '$my_geo.country', 'count': {'$sum': 1}}},\n",
    "    {'$sort': SON([('count', pymongo.DESCENDING)])},\n",
    "    {'$limit': 10}\n",
    "]\n",
    "countries = tweets.aggregate(pip)\n",
    "for country in countries:\n",
    "    print(country)"
   ]
  }
 ],
 "metadata": {
  "kernelspec": {
   "display_name": "Python 3",
   "language": "python",
   "name": "python3"
  },
  "language_info": {
   "codemirror_mode": {
    "name": "ipython",
    "version": 3
   },
   "file_extension": ".py",
   "mimetype": "text/x-python",
   "name": "python",
   "nbconvert_exporter": "python",
   "pygments_lexer": "ipython3",
   "version": "3.9.0"
  }
 },
 "nbformat": 4,
 "nbformat_minor": 2
}
