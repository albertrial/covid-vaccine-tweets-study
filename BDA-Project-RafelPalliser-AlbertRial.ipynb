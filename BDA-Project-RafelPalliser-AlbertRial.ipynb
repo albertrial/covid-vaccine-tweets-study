{
 "cells": [
  {
   "cell_type": "markdown",
   "metadata": {},
   "source": [
    "# BDA - Project"
   ]
  },
  {
   "cell_type": "markdown",
   "metadata": {},
   "source": [
    "## 1. Problem description"
   ]
  },
  {
   "cell_type": "code",
   "execution_count": null,
   "metadata": {},
   "outputs": [],
   "source": []
  },
  {
   "cell_type": "markdown",
   "metadata": {},
   "source": [
    "## 2. Data gathering and storage"
   ]
  },
  {
   "cell_type": "code",
   "execution_count": null,
   "metadata": {},
   "outputs": [],
   "source": []
  },
  {
   "cell_type": "markdown",
   "metadata": {},
   "source": [
    "## 3. Data description"
   ]
  },
  {
   "cell_type": "markdown",
   "metadata": {},
   "source": [
    "**Connection with the DB**"
   ]
  },
  {
   "cell_type": "code",
   "execution_count": 1,
   "metadata": {},
   "outputs": [
    {
     "name": "stdout",
     "output_type": "stream",
     "text": [
      "['admin', 'config', 'local', 'test', 'test_tweepy', 'tweets1', 'tweets2', 'tweets3', 'tweets4', 'tweets5', 'tweets6', 'vaccine_no_since']\n"
     ]
    }
   ],
   "source": [
    "import json\n",
    "import pymongo\n",
    "from pymongo import MongoClient\n",
    "\n",
    "client = MongoClient('fpsds.synology.me', 27017, username='mongoadmin', password='bda')\n",
    "\n",
    "# let's get the list of DBs already defined\n",
    "print(client.list_database_names())\n",
    "\n",
    "# Get the DB we want to use\n",
    "tweets = client['tweets6'].tweets"
   ]
  },
  {
   "cell_type": "markdown",
   "metadata": {},
   "source": [
    "Show an example of data sample"
   ]
  },
  {
   "cell_type": "code",
   "execution_count": 27,
   "metadata": {},
   "outputs": [
    {
     "data": {
      "text/plain": [
       "{'_id': 1334789658442665985,\n",
       " 'created_at': 'Fri Dec 04 09:20:28 +0000 2020',\n",
       " 'full_text': 'RT @21WIRE: UPDATE: Despite concerns about safety &amp; trial design, countries are already spending billions of dollars in taxpayer funds to p…',\n",
       " 'display_text_range': [0, 144],\n",
       " 'entities': {'hashtags': [],\n",
       "  'symbols': [],\n",
       "  'user_mentions': [{'screen_name': '21WIRE',\n",
       "    'name': 'Patrick Henningsen',\n",
       "    'id': 16936686,\n",
       "    'id_str': '16936686',\n",
       "    'indices': [3, 10]}],\n",
       "  'urls': []},\n",
       " 'metadata': {'iso_language_code': 'en', 'result_type': 'recent'},\n",
       " 'geo': None,\n",
       " 'coordinates': None,\n",
       " 'place': None,\n",
       " 'retweet_count': 25,\n",
       " 'favorite_count': 0}"
      ]
     },
     "execution_count": 27,
     "metadata": {},
     "output_type": "execute_result"
    }
   ],
   "source": [
    "tweets.find_one({})"
   ]
  },
  {
   "cell_type": "markdown",
   "metadata": {},
   "source": [
    "**Count the total number of tweets on the database and the number of tweets with geolocation**"
   ]
  },
  {
   "cell_type": "code",
   "execution_count": 16,
   "metadata": {},
   "outputs": [
    {
     "name": "stdout",
     "output_type": "stream",
     "text": [
      "Total number of tweets: 68822\n"
     ]
    }
   ],
   "source": [
    "print(\"Total number of tweets:\", tweets.count_documents({}))"
   ]
  },
  {
   "cell_type": "code",
   "execution_count": 26,
   "metadata": {},
   "outputs": [
    {
     "name": "stdout",
     "output_type": "stream",
     "text": [
      "Number of tweets with geolocation: 931\n"
     ]
    }
   ],
   "source": [
    "count_with_geo = tweets.count_documents({'$or': [\n",
    "                                                {'geo': {'$ne': None}},\n",
    "                                                {'coordinates': {'$ne': None}},\n",
    "                                                {'place': {'$ne': None}}\n",
    "                                        ]},{})\n",
    "print(\"Number of tweets with geolocation:\", count_with_geo)"
   ]
  },
  {
   "cell_type": "markdown",
   "metadata": {},
   "source": [
    "**Top 25 vaccine related hashtags**"
   ]
  },
  {
   "cell_type": "code",
   "execution_count": 37,
   "metadata": {},
   "outputs": [
    {
     "name": "stdout",
     "output_type": "stream",
     "text": [
      "{'_id': 'vaccine', 'count': 42747}\n",
      "{'_id': 'COVID19', 'count': 15302}\n",
      "{'_id': 'Vaccine', 'count': 9458}\n",
      "{'_id': 'coronavirus', 'count': 3461}\n",
      "{'_id': 'COVID', 'count': 3160}\n",
      "{'_id': 'Covid', 'count': 3068}\n",
      "{'_id': 'Pfizer', 'count': 2682}\n",
      "{'_id': 'Covid19', 'count': 2489}\n",
      "{'_id': 'CovidVaccine', 'count': 2459}\n",
      "{'_id': 'patents', 'count': 1854}\n",
      "{'_id': 'COVIDー19', 'count': 1818}\n",
      "{'_id': 'covid19', 'count': 1412}\n",
      "{'_id': 'AstraZeneca', 'count': 1315}\n",
      "{'_id': 'vaccination', 'count': 1207}\n",
      "{'_id': 'covid', 'count': 1167}\n",
      "{'_id': 'UK', 'count': 1123}\n",
      "{'_id': 'BillGates', 'count': 962}\n",
      "{'_id': 'pandemic', 'count': 794}\n",
      "{'_id': 'Vaccination', 'count': 789}\n",
      "{'_id': 'cdc', 'count': 783}\n",
      "{'_id': 'Moderna', 'count': 777}\n",
      "{'_id': 'vaccines', 'count': 766}\n",
      "{'_id': 'GatesFoundation', 'count': 736}\n",
      "{'_id': 'UN', 'count': 721}\n",
      "{'_id': 'GAVI', 'count': 718}\n"
     ]
    }
   ],
   "source": [
    "from bson.son import SON\n",
    "\n",
    "pipeline = [\n",
    "        {'$unwind': \"$entities.hashtags\" },\n",
    "        {'$group': {'_id': '$entities.hashtags.text', 'count': {'$sum': 1}}},\n",
    "        {\"$sort\": SON([(\"count\", pymongo.DESCENDING)])},\n",
    "        {'$limit': 25}\n",
    "    ]\n",
    "\n",
    "res = tweets.aggregate(pipeline)\n",
    "for sample in res:\n",
    "    print(sample)"
   ]
  },
  {
   "cell_type": "code",
   "execution_count": null,
   "metadata": {},
   "outputs": [],
   "source": []
  }
 ],
 "metadata": {
  "kernelspec": {
   "display_name": "Python 3",
   "language": "python",
   "name": "python3"
  },
  "language_info": {
   "codemirror_mode": {
    "name": "ipython",
    "version": 3
   },
   "file_extension": ".py",
   "mimetype": "text/x-python",
   "name": "python",
   "nbconvert_exporter": "python",
   "pygments_lexer": "ipython3",
   "version": "3.7.4"
  }
 },
 "nbformat": 4,
 "nbformat_minor": 2
}
