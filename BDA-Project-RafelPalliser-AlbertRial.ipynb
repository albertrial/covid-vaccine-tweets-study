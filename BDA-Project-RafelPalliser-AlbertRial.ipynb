{
 "cells": [
  {
   "cell_type": "markdown",
   "metadata": {},
   "source": [
    "<center>\n",
    "    <h1> Study of the Covid-19 Vaccine Acceptance</h1>\n",
    "    <h4> BDA Fall 2020 - Final Project </h4>\n",
    "    <hr>\n",
    "    <br><br>\n",
    "    <h3>Rafel Palliser & Albert Rial</h3>\n",
    "    <br><br>\n",
    "</center>"
   ]
  },
  {
   "cell_type": "markdown",
   "metadata": {},
   "source": [
    "## 1. Problem description"
   ]
  },
  {
   "cell_type": "markdown",
   "metadata": {},
   "source": [
    "The goal of this study is to analyze the acceptance of the Covid-19 Vaccine by examinating tweets referring to it. We truly think this is an important study because Covid-19 has drastically changed our lives, and its vaccine could change them again."
   ]
  },
  {
   "cell_type": "markdown",
   "metadata": {},
   "source": [
    "The followed pipeline starts by gathering the data throughout the Twitter API and storing it into a MongoDB. Once done, we perform a first data exploration to study the different fields contained in a tweet, and if there are missing values in the fields we need for our analysis. Afterwards, the data is processed and cleaned in order to be completely prepared for the study of the vaccine acceptance."
   ]
  },
  {
   "cell_type": "markdown",
   "metadata": {},
   "source": [
    "ALGO MAS?!?"
   ]
  },
  {
   "cell_type": "markdown",
   "metadata": {},
   "source": [
    "Introducció:\n",
    "- Storytelling\n",
    "- (Done) Com fer la query? Quina? (volíem dades al llarg de molt temps, no d'un instant concret)\n",
    "- (Done) covid té hashtag, vacuna no --> triar idiomes --> query #covid 24h ......\n",
    "\n",
    "Data Exploration:\n",
    "- (Done) Estudi de fields\n",
    "- (Done) Quants són rt, originals, ..?\n",
    "- (Done) Estudi de missing values i com estan codificats dels que ens afecten (text, geo)\n",
    "- (Done) Distribució idiomes\n",
    "- Explicar GEO!!!\n",
    "- Llista / Mapa d'on estan els tweets\n",
    "- Evolució del nb de tweets al llarg del temps (histograma..) (incloure notícies)\n",
    "- Llista de top hashtags\n",
    "- Llista top words (exclude stopwords,...)?\n",
    "\n",
    "Estudi. Study on the acceptance of covid-19 vaccine:\n",
    "- Mapa / Dist d'on es parla més de cada vacuna (mirar la distribució de la vacuna que es parla més segons el país)\n",
    "- Evolució del sentiment al llarg del temps (relació amb notícies)\n",
    "- Evolució del sentiment al llarg del temps de cada vacuna\n",
    "- Sentiment segons pais. Mapa global de pro-vaccine i anti-vaccine\n",
    "- Sentiment segons pais i vacuna?\n",
    "\n",
    "Hagués estat bé tenir edat/sexe per fer estudi sociologic però no el tenim."
   ]
  },
  {
   "cell_type": "markdown",
   "metadata": {},
   "source": [
    "## 2. Data gathering and storage"
   ]
  },
  {
   "cell_type": "markdown",
   "metadata": {},
   "source": [
    "Data gathering is one of the most important parts of a data project or analysis, although it may not seem so. Sometimes the researcher cannot control this part because others gathered the data, and have to face other more complicated problems to process it and extract valuable information. In this project, we have the opportunity to design the data gathering process, and that's why we have spend much time on it.\n",
    "\n",
    "The constraints on our data gathering process come from the theme of this project, Covid-19 Vaccine Acceptance, and the source we have decided to use, Twitter. Knowing that one of the key interaction factors of this social network are the use of hashtags, we noticed the fact that the Covid-19 Vaccine has not a hashtag associated to it, or at least not a global one in a similar way that Covid-19 has #Covid, #Covid19 or #Covid-19.\n",
    "\n",
    "Also, the word vaccine is written in different ways depending on the language, so in order to not introduce a large bias on languages due to our query, we made a preliminar study of the most used languages in tweets talking about Covid-19. Trying to be as fair as possible, we collected tweets for exactly 24h (to not discriminate any time zone) containing one of the mentioned hashtags associated with Covid-19. We are aware that countries using a non-latin alphabet may refer to the virus in a different way, but we don't aim to obtain tweets in those languages as we won't be able to process the tweet text in our analysis. Taking this into account, we obtained the following results:"
   ]
  },
  {
   "cell_type": "code",
   "execution_count": 1,
   "metadata": {},
   "outputs": [],
   "source": [
    "# -*- coding: utf-8 -*-\n",
    "import pymongo\n",
    "from src.keys import MONGODB_KEY\n",
    "from bson.son import SON\n",
    "\n",
    "# Set up a connection to our remote db\n",
    "client = pymongo.MongoClient('fpsds.synology.me', 27017, username='mongoadmin', password=MONGODB_KEY)\n",
    "db = client['tweets']\n",
    "tweets = db['covid_hashtags_24h']"
   ]
  },
  {
   "cell_type": "markdown",
   "metadata": {},
   "source": [
    "<a id='lang_study'></a>"
   ]
  },
  {
   "cell_type": "code",
   "execution_count": 2,
   "metadata": {},
   "outputs": [
    {
     "name": "stdout",
     "output_type": "stream",
     "text": [
      "Lang         %       Acc %\n",
      "en      61.58%      61.58%\n",
      "es      17.08%      78.66%\n",
      "fr       5.11%      83.77%\n",
      "it       2.87%      86.63%\n",
      "und      2.26%      88.90%\n",
      "de       1.98%      90.88%\n",
      "in       1.42%      92.30%\n",
      "hi       1.22%      93.52%\n",
      "ja       0.95%      94.47%\n",
      "pt       0.93%      95.41%\n"
     ]
    }
   ],
   "source": [
    "# Group by language, and compute the count of tweets belonging to each\n",
    "pipeline = [\n",
    "    {'$group': {'_id': '$lang', 'count': {'$sum': 1}}},\n",
    "    {\"$sort\": SON([(\"count\", pymongo.DESCENDING)])},\n",
    "    {'$limit': 10}\n",
    "]\n",
    "tot = tweets.count_documents({})\n",
    "res = tweets.aggregate(pipeline)\n",
    "acc = 0\n",
    "langs = []\n",
    "counts = []\n",
    "print('Lang         %       Acc %')\n",
    "for lang in res:\n",
    "    langs.append(lang['_id'])\n",
    "    counts.append(lang['count'])\n",
    "    acc += lang['count']\n",
    "    print('{:4s}    {:5.2f}%      {:5.2f}%'.format(lang['_id'], 100*lang['count']/tot, 100*acc/tot))"
   ]
  },
  {
   "cell_type": "code",
   "execution_count": 3,
   "metadata": {
    "scrolled": true
   },
   "outputs": [
    {
     "data": {
      "image/png": "[encoded data removed]",
      "text/plain": [
       "<Figure size 432x288 with 1 Axes>"
      ]
     },
     "metadata": {
      "needs_background": "light"
     },
     "output_type": "display_data"
    }
   ],
   "source": [
    "from src.plots import barplot\n",
    "barplot(langs, counts, 'Most used languages', 'languages', 'tweet count')"
   ]
  },
  {
   "cell_type": "markdown",
   "metadata": {},
   "source": [
    "Note that more than 60% of tweets are written in English, and another 17% in Spanish. The following most used language is French, which appears in 5% of the tweets, and the subsequent languages are only used in less than 3% of tweets. Looking at the histogram, it seems that the most logical choice would be to only look for tweets written in English. However, as these only cover the 60% of the gathered ones, we decided to also look after the Spanish ones, thus increasing our coverage to almost 80%.\n",
    "\n",
    "Note that this is an approximation, assuming the tweets talking about the Covid-19 vaccine follow the same language distribution that the ones talking about Covid-19 generally."
   ]
  },
  {
   "cell_type": "markdown",
   "metadata": {},
   "source": [
    "### The actual data gathering process"
   ]
  },
  {
   "cell_type": "markdown",
   "metadata": {},
   "source": [
    "The [Twitter API](https://developer.twitter.com/en) provides two main ways of gathering tweets. On one side we have the streaming option, which gets the tweets matching a certain query in real time. On the other, we have the option of dowloading indexed tweets from their database, from which one can download data from the 7-10 prior days with a free developer account.\n",
    "\n",
    "After testing both options, we decided to go for the second one, as we could make queries every 7 days and obtain the tweets for the whole period without having to leave a computer running a script 24/7, much more time. Also, we predicted (now confirmed) that during December the vaccine topic would become more and more trendy, so we wanted to download tweets for a long period of time.\n",
    "\n",
    "[src/collect_tweets.py](src/collect_tweets.py) is the script we have been using to download tweets and insert them in a database. We decided to not include the code in this notebook but leave it in a separate file because we run it asynchronously. In the file, one can see we have used [Tweepy](https://www.tweepy.org/) (a python library wrapping the Twitter API) and the actual parameters we have used to gather tweets. Apart from 'since', 'until' and 'max_id', which serve to control the period of time from we desire to download tweets; there is 'lang', which we set to 'None' (working as 'any') as the API does not accept a list of languages; and the most important one, the query itself: **'#covid OR #covid19 vaccine OR vacuna'**.\n",
    "\n",
    "In the [documentation](https://developer.twitter.com/en/docs/twitter-api/v1/tweets/search/guides/standard-operators) it can be easily seen that the 'OR' operator works as a logical OR betweet the two contiguous terms, and a simple whitespace works as an AND. Therefore, we are looking for tweets that contain (#covid or #covid19) and (vaccine or vacuna). The first part is to ensure the resulting tweets refer to the Covid-19 vaccine (note that #covid also matches #covid-19, so we are covering all the three most-used global hashtags for Covid-19). The second part is to ensure that the tweets specifically refer to the vaccine, and we include the word in English and Spanish as we decided in the previous language study because there is not a unified term to refer to the vaccine globaly. Note that we search for the word and not the hashtag, because although local hashtags #vaccine or #vacuna exists, few people use them. Also note that the way the Twitter search work, our query 'vaccine' also matches a possible hashtag '#vaccine', so we are not losing these results.\n",
    "\n",
    "We have been running this script from November, 29 to December, 29 collecting a total amount of 872828 tweets for a whole month, which have been stored into a MongoDB database."
   ]
  },
  {
   "cell_type": "markdown",
   "metadata": {},
   "source": [
    "### Storage"
   ]
  },
  {
   "cell_type": "markdown",
   "metadata": {},
   "source": [
    "Relational databases are a efficient solution for storage, but require strictly structured data, which does not directly match with tweets, which come in a json format and with several different fields depending on the type of tweet. For this reason, we have decided to use a NoSQL database. Specificaly we have chosen [MongoDB](https://www.mongodb.com/es), which is document oriented and matches the data type perfectly (json-like objects). The fact that we already know its language and it has a Python library ([PyMongo](https://pypi.org/project/pymongo/)) ready to use also played a role in our decision.\n",
    "\n",
    "For this project, we set up a MongoDB server using [Docker](https://www.docker.com/), and left it running in a machine which is visible in the public network, so we are able to work from home with an online, up-to-date and synchronized database, which is always available."
   ]
  },
  {
   "cell_type": "markdown",
   "metadata": {},
   "source": [
    "## 3. Data Description"
   ]
  },
  {
   "cell_type": "markdown",
   "metadata": {},
   "source": [
    "<a id='first_look'></a>\n",
    "### 3.1. First look at our data"
   ]
  },
  {
   "cell_type": "markdown",
   "metadata": {},
   "source": [
    "In this section we are going to present our data, explain the different fields it contains and the ones that will be important for our future analysis."
   ]
  },
  {
   "cell_type": "code",
   "execution_count": 4,
   "metadata": {},
   "outputs": [],
   "source": [
    "# Get the collection that contains all the tweets for our query\n",
    "tweets = db['#covid_vaccine']"
   ]
  },
  {
   "cell_type": "code",
   "execution_count": 5,
   "metadata": {},
   "outputs": [
    {
     "name": "stdout",
     "output_type": "stream",
     "text": [
      "The total amount of tweets in the database is 872828\n"
     ]
    }
   ],
   "source": [
    "# Check the number of tweets in the database\n",
    "n_tweets = tweets.count_documents({})\n",
    "print('The total amount of tweets in the database is {}'.format(n_tweets))"
   ]
  },
  {
   "cell_type": "code",
   "execution_count": 6,
   "metadata": {
    "scrolled": true
   },
   "outputs": [
    {
     "name": "stdout",
     "output_type": "stream",
     "text": [
      "Collection size = 5.31GB\n"
     ]
    }
   ],
   "source": [
    "# Check the size of the collection (note that this is approximate and includes data and indexes)\n",
    "print('Collection size = {:.2f}GB'.format(db.command(\"collstats\", \"#covid_vaccine\")['size']/1e9))"
   ]
  },
  {
   "cell_type": "markdown",
   "metadata": {},
   "source": [
    "Each collected tweet document has many fields, and printing a complete one would take much space of this report. For this reason, let's first take a look to all the possible primary fields (not nested ones) a tweet can have:"
   ]
  },
  {
   "cell_type": "code",
   "execution_count": 7,
   "metadata": {
    "scrolled": true
   },
   "outputs": [
    {
     "name": "stdout",
     "output_type": "stream",
     "text": [
      "['_id', 'contributors', 'coordinates', 'created_at', 'display_text_range', 'entities', 'extended_entities', 'favorite_count', 'favorited', 'full_text', 'geo', 'hashtag_acceptance', 'id', 'id_str', 'in_reply_to_screen_name', 'in_reply_to_status_id', 'in_reply_to_status_id_str', 'in_reply_to_user_id', 'in_reply_to_user_id_str', 'is_quote_status', 'lang', 'metadata', 'my_geo', 'place', 'possibly_sensitive', 'quoted_status', 'quoted_status_id', 'quoted_status_id_str', 'retweet_count', 'retweeted', 'retweeted_status', 'source', 'text_sentiment', 'truncated', 'user', 'withheld_in_countries']\n",
      "Wall time: 38min 28s\n"
     ]
    }
   ],
   "source": [
    "%%time\n",
    "\n",
    "# Just for exposition, let's try this the 'wrong' way\n",
    "\n",
    "key_set = set()\n",
    "for tweet in tweets.find({}):\n",
    "    tweet_keys = tweet.keys()\n",
    "    key_set = key_set.union(tweet_keys)\n",
    "print(sorted(list(key_set)))"
   ]
  },
  {
   "cell_type": "markdown",
   "metadata": {},
   "source": [
    "Note how retrieving all documents to perform computations locally is a really bad idea, not only for the memory usage (in this case it is not huge as we are processing one tweet at a time), but mainly in efficiency. It took ALMOST 40 minutes, which makes sense as we are moving approximately 5GB of data through the network. In fact, using the network is what makes it slow, as executing this exact cell in localhost takes approximately 3 minutes. \n",
    "\n",
    "However, we have to take in mind that in a real-life setup we most likely couldn't execute these scripts in the same exact machine that hosts the database server. For this reason, to close the gap with what we are going to face in real problems, we are executing this notebook from outside the server, so presented running times refer to this setup.\n",
    "\n",
    "The conclusion we can extract is that whenever facing a big data problem, one does not want to move the data, but to perform the computation in the database, which is optimized for doing so, and only return the desired results."
   ]
  },
  {
   "cell_type": "markdown",
   "metadata": {},
   "source": [
    "This is exactly what we are doing in the following cell by applying a MapReduce model in the server side:"
   ]
  },
  {
   "cell_type": "code",
   "execution_count": 8,
   "metadata": {},
   "outputs": [
    {
     "name": "stdout",
     "output_type": "stream",
     "text": [
      "['_id', 'contributors', 'coordinates', 'created_at', 'display_text_range', 'entities', 'extended_entities', 'favorite_count', 'favorited', 'full_text', 'geo', 'hashtag_acceptance', 'id', 'id_str', 'in_reply_to_screen_name', 'in_reply_to_status_id', 'in_reply_to_status_id_str', 'in_reply_to_user_id', 'in_reply_to_user_id_str', 'is_quote_status', 'lang', 'metadata', 'my_geo', 'place', 'possibly_sensitive', 'quoted_status', 'quoted_status_id', 'quoted_status_id_str', 'retweet_count', 'retweeted', 'retweeted_status', 'source', 'text_sentiment', 'truncated', 'user', 'withheld_in_countries']\n",
      "Wall time: 35.1 s\n"
     ]
    }
   ],
   "source": [
    "%%time\n",
    "\n",
    "# Take advantage of MapReduce, which is executed on the DB side\n",
    "# Map function: Emit each key. We assign a value 'null' because we are only interested in the keys\n",
    "# Shuffle: We will have a list of nulls for each different key\n",
    "# Reduce: Don't look at the list 's', just return 'null' as we don't want any value, only the different keys\n",
    "# Output: Store the information in a new collection\n",
    "tweet_keys = tweets.map_reduce(\"\"\"function() {for (var key in this) {emit(key, null);}}\"\"\", \n",
    "                  \"\"\"function(key, s) {return null;}\"\"\",\n",
    "                  \"#covid_vaccine_keys\")\n",
    "keys = tweet_keys.find({},{'value': 0})\n",
    "print([e['_id'] for e in keys])"
   ]
  },
  {
   "cell_type": "markdown",
   "metadata": {},
   "source": [
    "We obtain the same exact result while working 60 times faster! When running this in the server (localhost), it also takes around 30 seconds, which is 6 times faster than the 3 minutes the previous query took using localhost. This proves that, having or not the problem of the network, performing computation at the database is always better. Also, when we only return the results, the problem of moving data through the nework gets incredibly reduced."
   ]
  },
  {
   "cell_type": "markdown",
   "metadata": {},
   "source": [
    "Regarding the result, the meaning of all these fields is explained in the [Twitter API website](https://developer.twitter.com/en/docs/twitter-api/premium/data-dictionary/object-model/tweet), but we are going to review the ones that are interesting for our work:\n",
    "- `_id` is the MongoDB unique id, which we manually set to be the tweet `id`, which is also unique and increases chronologically. It is encoded as an int64 and can also be found string formatted at `id_str`.\n",
    "- `coordinates` contains the longitude and latitude from where the tweet was sent. `coordinates.coordinates` is a 2-dimensional array. Null if geolocalization is deactivated.\n",
    "- `created_at` is a string containing the UCT timestamp of the creation of the tweet. Example: \"Wed Oct 10 20:19:24 +0000 2018\"\n",
    "- `display_text_range` is an array containing the offsets of the characters that form the real text message. Note that when you reply to a tweet, your own tweet starts with the user mention `@user`, which is not part of your reply text.\n",
    "- `entities` is an object-like attribute that contains, among others, the detected hashtags `#hashtag` and user mentions `@user` along with their character offsets.\n",
    "- `full_text` is the most important field, containing the actual text of the tweet.\n",
    "- `geo` is a deprecated field, now substituted by `coordinates`. Null if geolocalization is deactivated.\n",
    "- `in_reply_to` family of attributes indicate if a tweet is actually a reply of another one, its id and its author. Null for non-reply tweets.\n",
    "- `lang` indicates the language of the tweet, detected in a best-effort manner.\n",
    "- `place` is an object-like field which includes information about the place from which a tweet has been sent (not only coordinates, but also country and sometimes city or even neighbourhood). Null if geolocalization is deactivated.\n",
    "- `quoted_status` is an attribute only present if the tweet contains a quote to another tweet. The value of this attribute, if present, is another whole tweet object.\n",
    "- `retweeted_status` is a field which is only present if the tweet is actually a retweet of another original tweet, contained in the attribute.\n",
    "- `truncated` is a compatibility flag which indicates if a tweet text is truncated to 140 characters. It will be false in all our documents as we enabled 'extended_mode' in our query (see [src/collect_tweets.py](src/collect_tweets.py))\n",
    "- `user` is a whole object with lots of different fields regarding the author of the tweet. Specifically, `user.location` is interesting because it shows the location the user has set to be visible in its profile. Note that this is a free field, and the user can write anything on it."
   ]
  },
  {
   "cell_type": "markdown",
   "metadata": {},
   "source": [
    "Let's see a tweet projecting the attributes we really are interested in:"
   ]
  },
  {
   "cell_type": "code",
   "execution_count": 9,
   "metadata": {
    "scrolled": false
   },
   "outputs": [
    {
     "data": {
      "text/plain": [
       "{'_id': 1336317355832602627,\n",
       " 'created_at': 'Tue Dec 08 14:30:59 +0000 2020',\n",
       " 'full_text': 'Covid-19: Big pharma to the rescue | Our winter 2020 #coverstory looks at what IR is like under the coronavirus spotlight. We hear from @AstraZeneca, CureVac, @Sentieo and @MorganStanley on the impact for the sector | IR Magazine https://t.co/nnpwucYkSi #irchat #covid19 #vaccine',\n",
       " 'display_text_range': [0, 279],\n",
       " 'entities': {'hashtags': [{'text': 'coverstory', 'indices': [53, 64]},\n",
       "   {'text': 'irchat', 'indices': [254, 261]},\n",
       "   {'text': 'covid19', 'indices': [262, 270]},\n",
       "   {'text': 'vaccine', 'indices': [271, 279]}]},\n",
       " 'in_reply_to_status_id': None,\n",
       " 'user': {'location': 'Global'},\n",
       " 'coordinates': None,\n",
       " 'place': None,\n",
       " 'lang': 'en'}"
      ]
     },
     "execution_count": 9,
     "metadata": {},
     "output_type": "execute_result"
    }
   ],
   "source": [
    "tweets.find_one({},{'_id':1, 'coordinates':1, 'created_at':1, 'display_text_range':1, \n",
    "                    'entities.hashtags':1, 'full_text':1, 'in_reply_to_status_id':1, 'lang':1, \n",
    "                    'place':1, 'quoted_status':1, 'retweeted_status':1, 'user.location':1})\n",
    "# '_id': 1336317355832602627"
   ]
  },
  {
   "cell_type": "markdown",
   "metadata": {},
   "source": [
    "From the result, apart from the directly interpretable attributes, we can see that this user has not enabled geolocalization because both `place` and `coordinates` are None. Also, we can see that the location she uses in her profile `user.location` is actually not providing any information about that. Additionally, we can state this is an original tweet, as it is not a retweet nor a quote (as those attributes do not appear)."
   ]
  },
  {
   "cell_type": "markdown",
   "metadata": {},
   "source": [
    "### 3.2. Study of the different fields"
   ]
  },
  {
   "cell_type": "markdown",
   "metadata": {},
   "source": [
    "In this section we are going to study the fields that are important for our analysis in more depth."
   ]
  },
  {
   "cell_type": "markdown",
   "metadata": {},
   "source": [
    "<a id='types'></a>\n",
    "#### Tweet \"type\""
   ]
  },
  {
   "cell_type": "markdown",
   "metadata": {},
   "source": [
    "Recognizing the tweet type is important for several reasons.\n",
    "\n",
    "The first and most important one is to understand the possible interactions in Twitter, and what they imply. A retweet shows agreement with what the original tweet said. However, when quoting, the author can agree or not with the quoted tweet. \n",
    "\n",
    "Second, the key information is stored in different fields depending on the tweet type, so identifying it is key for the analysis."
   ]
  },
  {
   "cell_type": "markdown",
   "metadata": {},
   "source": [
    "Note that replies (comments to an \"original\" tweet) will be treated as original tweets themselves, because they don't provide information of the tweet they replied, only the tweet id, which is usually not found in the database."
   ]
  },
  {
   "cell_type": "code",
   "execution_count": 10,
   "metadata": {},
   "outputs": [
    {
     "name": "stdout",
     "output_type": "stream",
     "text": [
      "Only 2609 replied tweets are contained in the datbase. This is a 12.10% of the number of replies.\n"
     ]
    }
   ],
   "source": [
    "# Check if replied tweets are in the database\n",
    "replies = tweets.find({'in_reply_to_status_id': {'$ne': None}}, {'in_reply_to_status_id':1, '_id':0})\n",
    "list_of_replied_ids = [e['in_reply_to_status_id'] for e in replies]\n",
    "\n",
    "count = tweets.count_documents({'_id': {'$in': list_of_replied_ids}})\n",
    "print('Only {} replied tweets are contained in the datbase. This is a {:.2f}% of the number of replies.'.format(count, 100*count/len(list_of_replied_ids)))"
   ]
  },
  {
   "cell_type": "markdown",
   "metadata": {},
   "source": [
    "As seen in [Section 3.1](#first_look), we can recognize if a tweet object is a retweet by the appearence of the `retweeted_status` attribute. Same with `quoted_status` for quote tweets."
   ]
  },
  {
   "cell_type": "code",
   "execution_count": 11,
   "metadata": {},
   "outputs": [
    {
     "name": "stdout",
     "output_type": "stream",
     "text": [
      "There are 176775 original tweets, representing a 20.25% of the total amount.\n",
      "There are 674140 retweets, representing a 77.24% of the total amount.\n",
      "There are 21913 quotes, representing a 2.51% of the total amount.\n"
     ]
    }
   ],
   "source": [
    "n_retweets = tweets.count_documents({'retweeted_status': {'$exists': True}})\n",
    "n_quotes = tweets.count_documents({'quoted_status': {'$exists': True}})\n",
    "n_originals = n_tweets - n_retweets - n_quotes\n",
    "\n",
    "print('There are {} original tweets, representing a {:.2f}% of the total amount.'.format(n_originals, 100*n_originals/n_tweets))\n",
    "print('There are {} retweets, representing a {:.2f}% of the total amount.'.format(n_retweets, 100*n_retweets/n_tweets))\n",
    "print('There are {} quotes, representing a {:.2f}% of the total amount.'.format(n_quotes, 100*n_quotes/n_tweets))"
   ]
  },
  {
   "cell_type": "markdown",
   "metadata": {},
   "source": [
    "Note that the vast majority of tweet objects correspond to retweets, then we have a 20% original tweets, and a small amount of quotes."
   ]
  },
  {
   "cell_type": "markdown",
   "metadata": {},
   "source": [
    "Now let's see how the tweet text is shown in each of these tweet types. Starting with original ones:"
   ]
  },
  {
   "cell_type": "code",
   "execution_count": 12,
   "metadata": {},
   "outputs": [
    {
     "name": "stdout",
     "output_type": "stream",
     "text": [
      "Covid-19: Big pharma to the rescue | Our winter 2020 #coverstory looks at what IR is like under the coronavirus spotlight. We hear from @AstraZeneca, CureVac, @Sentieo and @MorganStanley on the impact for the sector | IR Magazine https://t.co/nnpwucYkSi #irchat #covid19 #vaccine\n"
     ]
    }
   ],
   "source": [
    "original = tweets.find_one({'retweeted_status': {'$exists': False}, 'quoted_status': {'$exists': False}})\n",
    "print(original['full_text'])"
   ]
  },
  {
   "cell_type": "markdown",
   "metadata": {},
   "source": [
    "Nothing to say about this, `full_text` seems to show the text of the original tweet. Let's move to retweets:"
   ]
  },
  {
   "cell_type": "code",
   "execution_count": 13,
   "metadata": {},
   "outputs": [
    {
     "name": "stdout",
     "output_type": "stream",
     "text": [
      "RT @BungerKCBSRadio: Surge. Vaccine. Lockdown.  So many hot #COVID19 topics right now. I'll have @Bob_Wachter with me for #AskAnExpert at 9…\n"
     ]
    }
   ],
   "source": [
    "retweet = tweets.find_one({'retweeted_status': {'$exists': True}})\n",
    "print(retweet['full_text'])"
   ]
  },
  {
   "cell_type": "markdown",
   "metadata": {},
   "source": [
    "Two things to note here. To begin with, first characters 'RT' indicate it is a retweet. Next ones indicate from whom the retweeted tweet was. Therefore, this characters do not really form part of the text. Second, if we now take a look to `display_text_range`, we can see that the tweet has exactly 140 characters, which is a strange coincidence taking into account that we just saw the text ends in '...':"
   ]
  },
  {
   "cell_type": "code",
   "execution_count": 14,
   "metadata": {},
   "outputs": [
    {
     "name": "stdout",
     "output_type": "stream",
     "text": [
      "[0, 140]\n"
     ]
    }
   ],
   "source": [
    "print(retweet['display_text_range'])"
   ]
  },
  {
   "cell_type": "markdown",
   "metadata": {},
   "source": [
    "Looking at the text of the retweeted status:"
   ]
  },
  {
   "cell_type": "code",
   "execution_count": 15,
   "metadata": {},
   "outputs": [
    {
     "name": "stdout",
     "output_type": "stream",
     "text": [
      "Surge. Vaccine. Lockdown.  So many hot #COVID19 topics right now. I'll have @Bob_Wachter with me for #AskAnExpert at 9:20 AM PST. Send questions to: askus@kcbsradio.com then listen at 9:20 AM on @KCBSRadio @Radiodotcom app &amp; smart speaker (say \"Play KCBS Radio\") https://t.co/uQsiOzNDpv\n"
     ]
    }
   ],
   "source": [
    "print(retweet['retweeted_status']['full_text'])"
   ]
  },
  {
   "cell_type": "markdown",
   "metadata": {},
   "source": [
    "Note that looking at the original text we solve both problems. First, we don't have the annoying \"RT @user\", which we had to remove to process the text; and second, we obtain a text which is no longer cut. Therefore, when we process retweets we will use the `full_text` field of the retweeted status, not the retweet itself. Now let's analyze quotes:"
   ]
  },
  {
   "cell_type": "code",
   "execution_count": 16,
   "metadata": {},
   "outputs": [
    {
     "name": "stdout",
     "output_type": "stream",
     "text": [
      "Dr. #Fauci says that the New York City #firefighters resistance to the vaccine is based on #misinformation just like other people in society who are fearful of the vaccine. #COVID19 https://t.co/Vys5fiNwjV\n",
      "[0, 181]\n"
     ]
    }
   ],
   "source": [
    "quote = tweets.find_one({'quoted_status': {'$exists': True}})\n",
    "print(quote['full_text'])\n",
    "print(quote['display_text_range'])"
   ]
  },
  {
   "cell_type": "markdown",
   "metadata": {},
   "source": [
    "It seems to be all right here. Taking into account that the text will make reference to a quoted tweet, when processing quotes we will also take into account the actual quoted text:"
   ]
  },
  {
   "cell_type": "code",
   "execution_count": 17,
   "metadata": {},
   "outputs": [
    {
     "name": "stdout",
     "output_type": "stream",
     "text": [
      "Over half of New York City firefighters would refuse COVID-19 vaccine, survey finds. https://t.co/2Dlqb3gDIW\n"
     ]
    }
   ],
   "source": [
    "print(quote['quoted_status']['full_text'])"
   ]
  },
  {
   "cell_type": "markdown",
   "metadata": {},
   "source": [
    "#### Tweet Language"
   ]
  },
  {
   "cell_type": "markdown",
   "metadata": {},
   "source": [
    "Let's see the distribution of languages in our tweets. We would expect mainly English and Spanish as we have specificaly used the word 'vaccine' in these languages. However, as we could not set the attribute 'lang' in the Twitter API query, we could have some tweets in other languages that used the same words."
   ]
  },
  {
   "cell_type": "code",
   "execution_count": 18,
   "metadata": {},
   "outputs": [
    {
     "name": "stdout",
     "output_type": "stream",
     "text": [
      "Lang         %       Acc %\n",
      "en      73.48%      73.48%\n",
      "es      21.87%      95.35%\n",
      "fr       1.31%      96.66%\n",
      "und      0.85%      97.51%\n",
      "hi       0.56%      98.07%\n",
      "ca       0.41%      98.48%\n",
      "tl       0.17%      98.65%\n",
      "in       0.17%      98.82%\n",
      "it       0.15%      98.97%\n",
      "pt       0.13%      99.10%\n"
     ]
    }
   ],
   "source": [
    "# Let's print the top 10 most used languages in tweets referring to Covid-19 vaccine\n",
    "pipeline = [\n",
    "    {'$group': {'_id': '$lang', 'count': {'$sum': 1}}},\n",
    "    {\"$sort\": SON([(\"count\", pymongo.DESCENDING)])},\n",
    "    {'$limit': 10}\n",
    "]\n",
    "res = tweets.aggregate(pipeline)\n",
    "acc = 0\n",
    "langs = []\n",
    "counts = []\n",
    "print('Lang         %       Acc %')\n",
    "for lang in res:\n",
    "    langs.append(lang['_id'])\n",
    "    counts.append(lang['count'])\n",
    "    acc += lang['count']\n",
    "    print('{:4s}    {:5.2f}%      {:5.2f}%'.format(lang['_id'], 100*lang['count']/n_tweets, 100*acc/n_tweets))"
   ]
  },
  {
   "cell_type": "markdown",
   "metadata": {},
   "source": [
    "This result is completely expected. On one side, there are more than triple the tweets in English than in Spanish, following a quite similar distribution than the one seen in the [previous language study](#lang_study). On the other side, there are some tweets (less than 5%) from other languages, in which they might have included the English word 'vaccine', for example.\n",
    "\n",
    "As this language attribute is provided in a best-effor manner, in further sections we will analyze it."
   ]
  },
  {
   "cell_type": "markdown",
   "metadata": {},
   "source": [
    "#### Geolocalization"
   ]
  },
  {
   "cell_type": "markdown",
   "metadata": {},
   "source": [
    "Being able to locate from where tweets were sent is an important part for the analysis we aim to perform. For this reason, let's see which information tweets contain."
   ]
  },
  {
   "cell_type": "markdown",
   "metadata": {},
   "source": [
    "Let's start by analyzing the field `coordinates`, and `geo` which is its deprecated field:"
   ]
  },
  {
   "cell_type": "code",
   "execution_count": 19,
   "metadata": {},
   "outputs": [
    {
     "name": "stdout",
     "output_type": "stream",
     "text": [
      "There are 142 tweets with coordinates, which corresponds to a 0.02%\n",
      "There are 142 tweets with geo, which corresponds to a 0.02%\n"
     ]
    }
   ],
   "source": [
    "have_coordinates = tweets.count_documents({'coordinates': {'$ne': None}})\n",
    "have_geo = tweets.count_documents({'geo': {'$ne': None}})\n",
    "print('There are {} tweets with coordinates, which corresponds to a {:.2f}%'.format(have_coordinates, 100*have_coordinates/n_tweets))\n",
    "print('There are {} tweets with geo, which corresponds to a {:.2f}%'.format(have_geo, 100*have_geo/n_tweets))"
   ]
  },
  {
   "cell_type": "markdown",
   "metadata": {},
   "source": [
    "Only a tiny part of the data has coordinates associated. Let's check the fact that these 142 tweets are actually the same:"
   ]
  },
  {
   "cell_type": "code",
   "execution_count": 20,
   "metadata": {},
   "outputs": [
    {
     "name": "stdout",
     "output_type": "stream",
     "text": [
      "142\n"
     ]
    }
   ],
   "source": [
    "geo_coordinates = tweets.count_documents({'coordinates': {'$ne': None}, 'geo': {'$ne': None}})\n",
    "print(geo_coordinates)"
   ]
  },
  {
   "cell_type": "markdown",
   "metadata": {},
   "source": [
    "They are actually the same! Let's analyze the `place` field now:"
   ]
  },
  {
   "cell_type": "code",
   "execution_count": 21,
   "metadata": {},
   "outputs": [
    {
     "name": "stdout",
     "output_type": "stream",
     "text": [
      "There are 5827 tweets with place, which corresponds to a 0.67%\n"
     ]
    }
   ],
   "source": [
    "have_place = tweets.count_documents({'place': {'$ne': None}})\n",
    "print('There are {} tweets with place, which corresponds to a {:.2f}%'.format(have_place, 100*have_place/n_tweets))"
   ]
  },
  {
   "cell_type": "markdown",
   "metadata": {},
   "source": [
    "Slightly better, but not that much. Let's check if there is any overlap within tweets containing `place` and `coordinates`."
   ]
  },
  {
   "cell_type": "code",
   "execution_count": 22,
   "metadata": {
    "scrolled": true
   },
   "outputs": [
    {
     "name": "stdout",
     "output_type": "stream",
     "text": [
      "142\n"
     ]
    }
   ],
   "source": [
    "place_coordinates = tweets.count_documents({'place': {'$ne': None}, 'coordinates': {'$ne': None}})\n",
    "print(place_coordinates)"
   ]
  },
  {
   "cell_type": "markdown",
   "metadata": {},
   "source": [
    "All tweets with coordinates also have place. Therefore we have a total of 5827 tweets, a 0.67% of all, with geolocalization. This is obviously useless to perform a decent study. For this reason, let's check the field `user.location`, in which each user can write anything, hoping to find valuable information:<a id='list_ul'></a>"
   ]
  },
  {
   "cell_type": "code",
   "execution_count": 23,
   "metadata": {
    "scrolled": false
   },
   "outputs": [
    {
     "name": "stdout",
     "output_type": "stream",
     "text": [
      "Count      Location\n",
      "264872     \n",
      "  9685     United States\n",
      "  7606     México\n",
      "  6368     Washington, DC\n",
      "  5132     India\n",
      "  4802     New York, NY\n",
      "  4633     Canada\n",
      "  4391     കേരളം\n",
      "  4335     California, USA\n",
      "  4179     London, England\n",
      "  4135     USA\n",
      "  3525     London\n",
      "  3451     United Kingdom\n",
      "  3448     Los Angeles, CA\n",
      "  3423     Ecuador\n",
      "  2647     Boston, MA\n",
      "  2445     Toronto, Ontario\n",
      "  2442     Chicago, IL\n",
      "  2303     España\n",
      "  2243     Florida, USA\n",
      "  2121     New Delhi, India\n",
      "  2044     UK\n",
      "  1911     Ciudad de México\n",
      "  1864     New York, USA\n",
      "  1835     Toronto\n"
     ]
    }
   ],
   "source": [
    "pipeline = [\n",
    "    {'$group': {'_id': '$user.location', 'count': {'$sum': 1}}},\n",
    "    {\"$sort\": SON([(\"count\", pymongo.DESCENDING)])},\n",
    "    {'$limit': 25}\n",
    "]\n",
    "res = tweets.aggregate(pipeline)\n",
    "\n",
    "locations = []\n",
    "counts = []\n",
    "print('Count      Location')\n",
    "for loc in res:\n",
    "    locations.append(loc['_id'])\n",
    "    counts.append(loc['count'])\n",
    "    print('{:6d}     {}'.format(loc['count'], loc['_id']))\n",
    "locations.append('others')\n",
    "counts.append(n_tweets - sum(counts))"
   ]
  },
  {
   "cell_type": "code",
   "execution_count": 33,
   "metadata": {},
   "outputs": [
    {
     "data": {
      "image/png": "[encoded data removed]",
      "text/plain": [
       "<Figure size 432x288 with 1 Axes>"
      ]
     },
     "metadata": {
      "needs_background": "light"
     },
     "output_type": "display_data"
    }
   ],
   "source": [
    "barplot(locations, counts, 'Most common user locations', 'locations', 'tweet count', 90)"
   ]
  },
  {
   "cell_type": "markdown",
   "metadata": {},
   "source": [
    "The first thing we can see is that 30% of tweets don't contain any information, these users have left the field blank. Furthermore, the non-blank most repeated string is 'United States', but it is included in 'only' 1.1% of the tweets. 'Toronto', which is the top-25 most used location appears in only 0.2% of the tweets. Therefore, the distribution is quite flat over many many different strings (as can be seen in the right-most bar of the plot). Note also that different strings can refer to the same location entity: 'United States' and 'USA', for example."
   ]
  },
  {
   "cell_type": "markdown",
   "metadata": {},
   "source": [
    "Therefore, we can conclude that the field `user.location` contains valuable information (the top-25 list shows human-readable known locations), but there is much work to normalize them and obtain value from data."
   ]
  },
  {
   "cell_type": "markdown",
   "metadata": {},
   "source": [
    "## 4. Data Preprocessing"
   ]
  },
  {
   "cell_type": "markdown",
   "metadata": {},
   "source": [
    "In this section we will perform some modifications to our database to adapt it and prepare it for the Covid-19 Vaccine Acceptance analysis."
   ]
  },
  {
   "cell_type": "markdown",
   "metadata": {},
   "source": [
    "#### Cleaning"
   ]
  },
  {
   "cell_type": "markdown",
   "metadata": {},
   "source": [
    "We have noticed that some of our tweets seem to be unavailable due to accounts violating terms and conditions. Let's remove them."
   ]
  },
  {
   "cell_type": "code",
   "execution_count": 30,
   "metadata": {},
   "outputs": [
    {
     "name": "stdout",
     "output_type": "stream",
     "text": [
      "We have deleted 5 tweets\n"
     ]
    }
   ],
   "source": [
    "deleted = tweets.delete_many({'full_text': {'$regex': 'account is temporarily unavailable because it violates'}})\n",
    "print('We have deleted {} tweets'.format(deleted.deleted_count))"
   ]
  },
  {
   "cell_type": "markdown",
   "metadata": {},
   "source": [
    "#### Check language"
   ]
  },
  {
   "cell_type": "markdown",
   "metadata": {},
   "source": [
    "Twitter announces that their language identification is 'best-effort', which means that it can be not completely accurate. For this reason, before starting processing text and performing a possibly wrong analysis due to the language, we want to check with a language identifier if the results match.\n",
    "\n",
    "For this section we have used [`langid`](https://github.com/saffsd/langid.py), a standalone Language Identification tool, which works over 97 languages, fast and offline. Furthermore, it uses ISO 639-1 language codes, the exact same norm that Twitter uses.\n",
    "\n",
    "The code for this analysis is executed offline as it is time consuming, and results are stored in a .pkl serialized file. The source code can be seen in [src/langid.py](src/langid.py), and it is also presented following."
   ]
  },
  {
   "cell_type": "markdown",
   "metadata": {},
   "source": [
    "```python\n",
    "import langid\n",
    "def get_tweet_text(tweet):\n",
    "    if 'retweeted_status' in tweet:\n",
    "        tweet = tweet['retweeted_status']\n",
    "    return tweet['full_text']\n",
    "\n",
    "#####\n",
    "twitter_lang = []\n",
    "langid_lang = []\n",
    "for tweet in tweets.find({}, {'full_text':1, 'lang':1, 'retweeted_status.full_text':1}):\n",
    "    twitter_lang.append(tweet['lang'])\n",
    "    langid_lang.append(langid.classify(get_tweet_text(tweet))[0])\n",
    "```"
   ]
  },
  {
   "cell_type": "markdown",
   "metadata": {},
   "source": [
    "Note that as seen in the [tweet types analysis](#types), we are taking the text from `full_text` for all tweets except retweets, in which we are using `retweeted_status.full_text`."
   ]
  },
  {
   "cell_type": "markdown",
   "metadata": {},
   "source": [
    "Let's analyze the results:"
   ]
  },
  {
   "cell_type": "code",
   "execution_count": 35,
   "metadata": {},
   "outputs": [],
   "source": [
    "import pickle\n",
    "\n",
    "with open('data/lang_comp.pkl', 'rb') as f:\n",
    "    langs = pickle.load(f)\n",
    "langid_lang = langs['langid']\n",
    "twitter_lang = langs['twitter']"
   ]
  },
  {
   "cell_type": "code",
   "execution_count": 67,
   "metadata": {
    "scrolled": true
   },
   "outputs": [
    {
     "name": "stdout",
     "output_type": "stream",
     "text": [
      "              precision    recall  f1-score   support\n",
      "\n",
      "          af       0.00      0.00      0.00        33\n",
      "          am       1.00      0.01      0.02       601\n",
      "          an       0.00      0.00      0.00      1506\n",
      "          ar       0.99      0.45      0.62       821\n",
      "          as       0.00      0.00      0.00         6\n",
      "          az       0.00      0.00      0.00        27\n",
      "          be       0.00      0.00      0.00         1\n",
      "          bg       0.89      0.73      0.80        11\n",
      "          bn       0.94      0.86      0.90        93\n",
      "          br       0.00      0.00      0.00         5\n",
      "          bs       0.00      0.00      0.00        34\n",
      "          ca       0.78      0.62      0.69      4493\n",
      "         ckb       0.00      0.00      0.00         0\n",
      "          cs       0.68      0.72      0.70        74\n",
      "          cy       0.00      0.00      0.00        13\n",
      "          da       0.79      0.89      0.84       342\n",
      "          de       0.64      0.84      0.73       783\n",
      "          dv       0.00      0.00      0.00         0\n",
      "          el       1.00      0.90      0.95       608\n",
      "          en       0.98      0.99      0.99    632471\n",
      "          eo       0.00      0.00      0.00       163\n",
      "          es       0.98      0.97      0.98    193452\n",
      "          et       0.00      0.00      0.00        12\n",
      "          eu       0.47      0.23      0.30        62\n",
      "          fa       0.98      0.74      0.84        54\n",
      "          fi       0.58      0.58      0.58        60\n",
      "          fo       0.00      0.00      0.00         5\n",
      "          fr       0.97      0.98      0.98     11311\n",
      "          ga       0.00      0.00      0.00        25\n",
      "          gl       0.00      0.00      0.00       118\n",
      "          gu       1.00      0.99      1.00       384\n",
      "          he       0.00      0.00      0.00        40\n",
      "          hi       0.96      0.96      0.96      4923\n",
      "          hr       0.00      0.00      0.00       110\n",
      "          ht       0.02      0.11      0.03         9\n",
      "          hu       0.47      0.25      0.33        28\n",
      "          hy       0.00      0.00      0.00        11\n",
      "          id       0.00      0.00      0.00       388\n",
      "          in       0.00      0.00      0.00         0\n",
      "          is       0.14      0.20      0.17         5\n",
      "          it       0.77      0.35      0.48      2890\n",
      "          iw       0.00      0.00      0.00         0\n",
      "          ja       0.85      0.71      0.78       353\n",
      "          jv       0.00      0.00      0.00       201\n",
      "          ka       0.00      0.00      0.00       146\n",
      "          kk       0.00      0.00      0.00         2\n",
      "          km       0.00      0.00      0.00        75\n",
      "          kn       1.00      0.96      0.98       200\n",
      "          ko       1.00      0.17      0.29        78\n",
      "          ky       0.00      0.00      0.00        19\n",
      "          la       0.00      0.00      0.00      5418\n",
      "          lb       0.00      0.00      0.00       106\n",
      "          lo       0.00      0.00      0.00        84\n",
      "          lt       0.00      0.00      0.00        28\n",
      "          lv       0.57      0.67      0.62         6\n",
      "          mg       0.00      0.00      0.00         8\n",
      "          mk       0.00      0.00      0.00         8\n",
      "          ml       1.00      0.97      0.98       128\n",
      "          mn       0.00      0.00      0.00         6\n",
      "          mr       0.78      0.73      0.75       204\n",
      "          ms       0.00      0.00      0.00      1144\n",
      "          mt       0.00      0.00      0.00        32\n",
      "          nb       0.00      0.00      0.00         4\n",
      "          ne       0.78      0.93      0.85        15\n",
      "          nl       0.96      0.71      0.82       577\n",
      "          nn       0.00      0.00      0.00         2\n",
      "          no       0.64      0.02      0.05       361\n",
      "          oc       0.00      0.00      0.00       802\n",
      "          or       1.00      0.98      0.99        87\n",
      "          pa       1.00      0.13      0.24        67\n",
      "          pl       0.94      0.76      0.84       385\n",
      "          ps       0.00      0.00      0.00        55\n",
      "          pt       0.61      0.87      0.72       776\n",
      "          qu       0.00      0.00      0.00       351\n",
      "          ro       0.01      0.08      0.02        63\n",
      "          ru       0.94      0.78      0.85       148\n",
      "          rw       0.00      0.00      0.00        98\n",
      "          se       0.00      0.00      0.00         9\n",
      "          si       1.00      0.37      0.54        38\n",
      "          sk       0.00      0.00      0.00        10\n",
      "          sl       0.37      0.23      0.28        31\n",
      "          sq       0.00      0.00      0.00         4\n",
      "          sr       0.77      1.00      0.87        10\n",
      "          sv       0.89      0.53      0.66       152\n",
      "          sw       0.00      0.00      0.00       197\n",
      "          ta       1.00      0.96      0.98       418\n",
      "          te       1.00      0.83      0.91       132\n",
      "          th       1.00      0.88      0.94       593\n",
      "          tl       0.91      0.87      0.89      1568\n",
      "          tr       0.67      0.91      0.77       273\n",
      "          ug       0.00      0.00      0.00         2\n",
      "          uk       1.00      1.00      1.00         2\n",
      "         und       0.00      0.00      0.00         0\n",
      "          ur       1.00      0.89      0.94       633\n",
      "          vi       1.00      0.37      0.54        43\n",
      "          vo       0.00      0.00      0.00         3\n",
      "          wa       0.00      0.00      0.00        54\n",
      "          xh       0.00      0.00      0.00         6\n",
      "          zh       0.92      0.21      0.34       621\n",
      "          zu       0.00      0.00      0.00        20\n",
      "\n",
      "    accuracy                           0.97    872828\n",
      "   macro avg       0.40      0.32      0.33    872828\n",
      "weighted avg       0.96      0.97      0.96    872828\n",
      "\n",
      "0.9671630607634035\n"
     ]
    }
   ],
   "source": [
    "from sklearn.metrics import accuracy_score\n",
    "from sklearn.metrics import classification_report\n",
    "print(classification_report(langid_lang, twitter_lang, zero_division=0))\n",
    "print(accuracy_score(langid_lang, twitter_lang))"
   ]
  },
  {
   "cell_type": "markdown",
   "metadata": {},
   "source": [
    "TODO SOME PLOT?\n",
    "TODO SOME CONCLUSIONS --> Sobretot EN i ES. No utilitzarem langid, twitter és prou fiable."
   ]
  },
  {
   "cell_type": "markdown",
   "metadata": {},
   "source": [
    "#### Extracting information from `user.location`"
   ]
  },
  {
   "cell_type": "markdown",
   "metadata": {},
   "source": [
    "Geolocation data is important for our analysis, but as seen, only few tweets contain a non-null value for `coordinates` or `place`. For this reason we took a look to `user.location`, which although being a free-text field for Twitter users seems to contain valuable information of their locations. In this section we are going to study how to extract information about it."
   ]
  },
  {
   "cell_type": "markdown",
   "metadata": {},
   "source": [
    "The first problem we detected in `user.location` was the fact that it is a free-text open field so locations are not normalized. Therefore, a single entity 'United States' could be represented with different strings such as 'USA', 'US', 'United States', 'United States of America', 'Estados Unidos', 'EEUU', ... To solve this problem, we had several options, being the two most viable:\n",
    "- Create a knowledge base including an array of possible aliases for each entity\n",
    "- Use a Geocoding API, which are usually able to process different input strings and match them into the same location\n",
    "\n",
    "Taking into account completeness, resources and time we went for the second option, and tested two different APIs. Firstly, we used Nominatim, which works on OpenStreetMap, it is free but has a 1 query per second limit. On the other side, we tested Google Maps API, which has a 50 query-per-second limit, but it is not free. However, we had some student credit which was enough for our purpose.\n",
    "\n",
    "After some queries with both APIs we encountered another problem. Although we could normalize places through the API, both were returning a valid location for `user.location` fields that looked like 'CompanyName. IG @company, phone 612-345-6789', which do not contain a location, or 'Planet Earth', 'Everywhere', 'Hotel Room', ... that might be locations but are not valuable for us, as they are not specific/physical ones. If the APIs didn't return anything we would be fine. However, we didn't have a way of discerning the confidence on these responses, so we couldn't differentiate real from 'spurious' locations.\n",
    "\n",
    "To solve this we tried to, again, create a knowledge base of words usually associated with 'spurious' locations: 'earth', 'planet', 'somewhere', 'room', ... but it was a too simple and greedy way of doing so, and false positives where still there.\n",
    "\n",
    "After some research we found Carmen [[pdf]](https://www.aaai.org/ocs/index.php/WS/AAAIW13/paper/download/7085/6497%20on%2021%20Nov%202017) [[github]](https://github.com/mdredze/carmen-python), presented by Mark Dredze, Michael J. Paul, Shane Bergsma and Hieu Tran in 2013. Carmen is a project that aims to provide structured location information for tweets gathered through the Twitter API, using geocoding tools and a mix of automatic and manual alias resolution techniques. They process all the fields we are studying in this work, and are well aware of 'spurious' locations and how geocoding APIs try to provide a location for them.\n",
    "\n",
    "As they explain in their work, they had to create a database of known locations, which included some manual filtering for these 'spurious' locations. Their list of 7040 known locations, which we are using, can be seen at [data/locations.json](data/locations.json). Note that they created a 4-level structure 'Country' > 'State' > 'County' > 'City', and relate locations of different levels by using the 'parent_id'. Let's see an example:"
   ]
  },
  {
   "cell_type": "markdown",
   "metadata": {},
   "source": [
    "```json\n",
    "{\n",
    "    \"city\": \"Compton\",\n",
    "    \"uzip\": \"90220\",\n",
    "    \"countrycode\": \"US\",\n",
    "    \"country\": \"United States\",\n",
    "    \"longitude\": \"-118.224329\",\n",
    "    \"countycode\": \"\",\n",
    "    \"county\": \"Los Angeles County\",\n",
    "    \"parent_id\": \"5244\",\n",
    "    \"state\": \"California\",\n",
    "    \"radius\": 5700,\n",
    "    \"statecode\": \"CA\",\n",
    "    \"latitude\": \"33.895285\",\n",
    "    \"postal\": \"\",\n",
    "    \"aliases\": [\n",
    "        \"Compton, Ca\",\n",
    "        \"Compton, California\"\n",
    "    ],\n",
    "    \"id\": \"2\"\n",
    "  }\n",
    "```"
   ]
  },
  {
   "cell_type": "markdown",
   "metadata": {},
   "source": [
    "Note firstly that each location object contains a unique id. Then, we can see that this location is a city one, because the field 'city' appears non-empty. In the database we will find another location with id 5244 (its 'parent_id') that corresponds to the county \"Los Angeles County\" and will have an empty 'city' field. The same would happen with that location, which will have a parent of type 'state', which again will have a parent of type 'country'. Country locations have 'parent_id': '-1'.\n",
    "\n",
    "Note also that this location has a latitude and a longitude which correspond to the center of the 'city'; and a radius. Therefore, we have all the geolocation information. Not all locations in the database contain geolocation, but if we keep looking at their ancestors, one of them will always eventually have coordinates. Therefore, we might match with a city, but only have the country coordinates."
   ]
  },
  {
   "cell_type": "markdown",
   "metadata": {},
   "source": [
    "Although Carmen is a huge work, aftwer having analyzed the database, we think there are some flaws (duplicates, aliases that make reference other locations, ...) that we have addressed to our convenience. Also, we think their matching algorithm is far from perfect, so we made our own."
   ]
  },
  {
   "cell_type": "markdown",
   "metadata": {},
   "source": [
    "[src/clean_carmen_locations.py](src/clean_carmen_locations.py) shows the script we used to clean their database and create ours, which can be seen at [data/cleaned_locations.json](data/cleaned_locations.json) and uses the exact same format.\n",
    "\n",
    "The idea of this script is to preprocess each original location and extend its aliases list, which will be used to match against `user.location` strings:\n",
    "\n",
    "- Firstly, we take the original aliases and apply two string normalizations. The first one removes all punctuation signs and lowercases the string. The second one does the same but preserves usual separators converting them into commas. Separators are characters like '()', ',', '/', ... which are usually used to concatenate parts of a location: Barcelona (Spain); Barcelona, Spain; Barcelona|Spain, ... Therefore 'Compton, Ca' would be normalized to 'compton, ca' and to 'compton ca'.\n",
    "- Second, if the location is a country, add its lowercase contrycode to the aliases\n",
    "- Third, if the location is a US state, add its lowercase statecode to the aliases\n",
    "- Fourth, add the lowercased city name if location is a city; county name if it is a county; state name if it is a state or country name if it is a contry.\n",
    "\n",
    "After having added all these normalized aliases to each location, we perform duplicate detection and processing. If an alias is present in more than one location:\n",
    "- We priorize concretion. If only one of these locations is a city, assign this alias to the city and remove it from the other locations. If no cities, repeat for counties, states and eventually countries.\n",
    "- If the alias is present in two locations of the same level, remove it from all locations. We priorize precision over recall and false positives."
   ]
  },
  {
   "cell_type": "markdown",
   "metadata": {},
   "source": [
    "Once we have our cleaned database of locations, we use the [src/geotag_tweets.py](src/geotag_tweets.py) script to process tweets and match the best possible location out of our cleaned known locations. The pipeline works as follows:\n",
    "- From data description we know that there is a certain (small) amount of tweets that contain a `place` field. All places already contain coordinates, but for sake of completness we aim to associate to each tweet a known location from the database. For this reason the first attempt will be to see if the inner fields of `place` match with any known alias. One of them, `place.full_name` contains more specific information. If it does not match, places also contain `place.country` that will most probably match.\n",
    "    - For `full_name`, we apply the string normalization preserving separators (already explained), so we can easily match with the aliases created in the database. Then we look for structures of the type 'city, state', or 'city, country', in which `full_name` is usually encoded. If we find structures of type 'city, state, country' (more than two entities), these will be taken into account giving priority to the left-most part of the match, which is usually the more concrete entity.\n",
    "    - For `country`, we look for the lowercased version.\n",
    "    \n",
    "- If the tweet does not have a `place` field, we then process `user.location`. We have two options here:\n",
    "    - If the normalized string (lower case and without punctuation) directly matches a known alias, we assign that location.\n",
    "    - Otherwise we normalize the original string preserving separators, and again look for possible matches of type 'city, state', using the same algorithm.\n",
    "    \n",
    "Apart from this algorithm, if the matched location does not contain coordinates, we iteratively look at its parent until having a location which is less specific but has complete geolocation information.\n",
    "\n",
    "\n",
    "\n",
    "Finally, the script adds a `my_geo` object to each tweet, containing the matched location. We make this field nullable."
   ]
  },
  {
   "cell_type": "markdown",
   "metadata": {},
   "source": [
    "Let's see how many tweets we have been able to geolocate:"
   ]
  },
  {
   "cell_type": "code",
   "execution_count": 70,
   "metadata": {},
   "outputs": [
    {
     "name": "stdout",
     "output_type": "stream",
     "text": [
      "We had 5827 tweets with geolocation information, a 0.67% of all of them.\n",
      "We now have 420871 tweets with geolocation information, a 48.22% of all of them.\n",
      "We have 7222.77% more tweets with geolocation information\n"
     ]
    }
   ],
   "source": [
    "have_place = tweets.count_documents({'place': {'$ne': None}})\n",
    "have_my_geo = tweets.count_documents({'my_geo': {'$ne': None}})\n",
    "\n",
    "print('We had {} tweets with geolocation information, a {:.2f}% of all of them.'.format(have_place, 100*have_place/n_tweets))\n",
    "print('We now have {} tweets with geolocation information, a {:.2f}% of all of them.'.format(have_my_geo, 100*have_my_geo/n_tweets))\n",
    "print('We have {:.2f}% more tweets with geolocation information than before.'.format(100*have_my_geo/have_place))"
   ]
  },
  {
   "cell_type": "markdown",
   "metadata": {},
   "source": [
    "The improvement is huge! Only a 0.67% had a `place` field with coordinates, and from the 70% that have a non-empty `user.location` string (most common string was empty one with 30% of matches), we are able to match with a location for almost another 70% (of the non-empty location string), resulting in the final 48.22%.\n",
    "\n",
    "Also, remember that our approach has been to look for precision, removing all possible duplicate aliases, and using quite a few valid match structures, to avoid false positives. This means that using more flexible matching structures we could even increase this percentage, but we prefer to be more accurate in the ones we match."
   ]
  },
  {
   "cell_type": "markdown",
   "metadata": {},
   "source": [
    "Let's look to an example:"
   ]
  },
  {
   "cell_type": "code",
   "execution_count": 77,
   "metadata": {},
   "outputs": [
    {
     "name": "stdout",
     "output_type": "stream",
     "text": [
      "{'my_geo': {'_id': '361',\n",
      "            'aliases': ['calgary, canada',\n",
      "                        'calgary ab',\n",
      "                        'calgary alberta canada',\n",
      "                        'calgary alberta',\n",
      "                        'calgary, ab',\n",
      "                        'calgary, alberta',\n",
      "                        'calgary, alberta, canada',\n",
      "                        'calgary, ab canada',\n",
      "                        'calgary canada',\n",
      "                        'calgary ab canada',\n",
      "                        'canada, calgary',\n",
      "                        'canada calgary',\n",
      "                        'calgary, alberta canada',\n",
      "                        'calgary, ab, canada',\n",
      "                        'calgary'],\n",
      "            'city': 'Calgary',\n",
      "            'country': 'Canada',\n",
      "            'countrycode': 'CA',\n",
      "            'county': 'Alberta',\n",
      "            'countycode': 'AB',\n",
      "            'latitude': '51.045220',\n",
      "            'longitude': '-114.063014',\n",
      "            'parent_id': '5430',\n",
      "            'postal': '',\n",
      "            'radius': 44400,\n",
      "            'state': 'Alberta',\n",
      "            'statecode': 'AB',\n",
      "            'uzip': 'T2G'},\n",
      " 'user': {'location': 'Calgary,Alberta (but wanders)'}}\n"
     ]
    }
   ],
   "source": [
    "from pprint import pprint\n",
    "tweet = tweets.find_one({'place': None, 'my_geo': {'$ne': None}}, {'_id':0, 'my_geo':1, 'user.location':1})\n",
    "pprint(tweet)"
   ]
  },
  {
   "cell_type": "markdown",
   "metadata": {},
   "source": [
    "Note that this tweet, which hadn't a `place` field, was matched with the known location with id 361, the city of Calgary. Also note that `user.location` does not directly match with any alias, so the match was produced after normalizing the string preserving serparators, and looking for 'city, state' structures. 'calgary, alberta' matched with that structure, but as we priorize left-most matches, this match was specificly produced due to 'calgary' being part of the aliases (the last one). This way we ensure maximum precision (a city) instead of possibly matching a county or a state."
   ]
  },
  {
   "cell_type": "markdown",
   "metadata": {},
   "source": [
    "To conclude, we have been able to use Carmen's database on our convinience, creating a cleaned database with lots of non-overlapping aliases and a robust matching algorithm that allows us doing geolocation analysis."
   ]
  },
  {
   "cell_type": "markdown",
   "metadata": {},
   "source": [
    "## 5. Analisys"
   ]
  },
  {
   "cell_type": "code",
   "execution_count": null,
   "metadata": {},
   "outputs": [],
   "source": []
  },
  {
   "cell_type": "code",
   "execution_count": null,
   "metadata": {},
   "outputs": [],
   "source": []
  },
  {
   "cell_type": "markdown",
   "metadata": {},
   "source": [
    "**Count the total number of tweets on the database and the number of tweets with geolocation**"
   ]
  },
  {
   "cell_type": "code",
   "execution_count": 16,
   "metadata": {},
   "outputs": [
    {
     "name": "stdout",
     "output_type": "stream",
     "text": [
      "Total number of tweets: 68822\n"
     ]
    }
   ],
   "source": [
    "print(\"Total number of tweets:\", tweets.count_documents({}))"
   ]
  },
  {
   "cell_type": "code",
   "execution_count": 26,
   "metadata": {},
   "outputs": [
    {
     "name": "stdout",
     "output_type": "stream",
     "text": [
      "Number of tweets with geolocation: 931\n"
     ]
    }
   ],
   "source": [
    "count_with_geo = tweets.count_documents({'$or': [\n",
    "                                                {'geo': {'$ne': None}}, \n",
    "                                                {'coordinates': {'$ne': None}},\n",
    "                                                {'place': {'$ne': None}}\n",
    "                                        ]},{})\n",
    "print(\"Number of tweets with geolocation:\", count_with_geo)"
   ]
  },
  {
   "cell_type": "markdown",
   "metadata": {},
   "source": [
    "**Top 25 vaccine related hashtags**"
   ]
  },
  {
   "cell_type": "code",
   "execution_count": 37,
   "metadata": {},
   "outputs": [
    {
     "name": "stdout",
     "output_type": "stream",
     "text": [
      "{'_id': 'vaccine', 'count': 42747}\n",
      "{'_id': 'COVID19', 'count': 15302}\n",
      "{'_id': 'Vaccine', 'count': 9458}\n",
      "{'_id': 'coronavirus', 'count': 3461}\n",
      "{'_id': 'COVID', 'count': 3160}\n",
      "{'_id': 'Covid', 'count': 3068}\n",
      "{'_id': 'Pfizer', 'count': 2682}\n",
      "{'_id': 'Covid19', 'count': 2489}\n",
      "{'_id': 'CovidVaccine', 'count': 2459}\n",
      "{'_id': 'patents', 'count': 1854}\n",
      "{'_id': 'COVIDー19', 'count': 1818}\n",
      "{'_id': 'covid19', 'count': 1412}\n",
      "{'_id': 'AstraZeneca', 'count': 1315}\n",
      "{'_id': 'vaccination', 'count': 1207}\n",
      "{'_id': 'covid', 'count': 1167}\n",
      "{'_id': 'UK', 'count': 1123}\n",
      "{'_id': 'BillGates', 'count': 962}\n",
      "{'_id': 'pandemic', 'count': 794}\n",
      "{'_id': 'Vaccination', 'count': 789}\n",
      "{'_id': 'cdc', 'count': 783}\n",
      "{'_id': 'Moderna', 'count': 777}\n",
      "{'_id': 'vaccines', 'count': 766}\n",
      "{'_id': 'GatesFoundation', 'count': 736}\n",
      "{'_id': 'UN', 'count': 721}\n",
      "{'_id': 'GAVI', 'count': 718}\n"
     ]
    }
   ],
   "source": [
    "from bson.son import SON\n",
    "\n",
    "pipeline = [\n",
    "        {'$unwind': \"$entities.hashtags\" },\n",
    "        {'$group': {'_id': '$entities.hashtags.text', 'count': {'$sum': 1}}},\n",
    "        {\"$sort\": SON([(\"count\", pymongo.DESCENDING)])},\n",
    "        {'$limit': 25}\n",
    "    ]\n",
    "\n",
    "res = tweets.aggregate(pipeline)\n",
    "for sample in res:\n",
    "    print(sample)"
   ]
  },
  {
   "cell_type": "code",
   "execution_count": null,
   "metadata": {},
   "outputs": [],
   "source": []
  },
  {
   "cell_type": "code",
   "execution_count": null,
   "metadata": {},
   "outputs": [],
   "source": []
  },
  {
   "cell_type": "code",
   "execution_count": null,
   "metadata": {},
   "outputs": [],
   "source": []
  },
  {
   "cell_type": "code",
   "execution_count": 2,
   "metadata": {},
   "outputs": [
    {
     "name": "stdout",
     "output_type": "stream",
     "text": [
      "721077\n"
     ]
    }
   ],
   "source": [
    "r = tweets.count_documents({})\n",
    "print(r)"
   ]
  },
  {
   "cell_type": "code",
   "execution_count": 4,
   "metadata": {},
   "outputs": [
    {
     "name": "stdout",
     "output_type": "stream",
     "text": [
      "4980 0.6906335939157676\n",
      "108 0.014977596012631106\n",
      "108 0.014977596012631106\n"
     ]
    }
   ],
   "source": [
    "have_place = tweets.count_documents({'place': {'$ne': None}})\n",
    "have_geo = tweets.count_documents({'geo': {'$ne': None}})\n",
    "have_coordinates = tweets.count_documents({'coordinates': {'$ne': None}})\n",
    "print(have_place, 100*have_place/r)\n",
    "print(have_geo, 100*have_geo/r)\n",
    "print(have_coordinates, 100*have_coordinates/r)"
   ]
  },
  {
   "cell_type": "code",
   "execution_count": 5,
   "metadata": {},
   "outputs": [
    {
     "name": "stdout",
     "output_type": "stream",
     "text": [
      "504936 70.02525389105463\n"
     ]
    }
   ],
   "source": [
    "have_user_loc = tweets.count_documents({'user.location': {'$ne': ''}})\n",
    "print(have_user_loc, 100*have_user_loc/r)"
   ]
  },
  {
   "cell_type": "code",
   "execution_count": 6,
   "metadata": {},
   "outputs": [
    {
     "name": "stdout",
     "output_type": "stream",
     "text": [
      "353979 49.0903190643995\n"
     ]
    }
   ],
   "source": [
    "have_my_geo = tweets.count_documents({'my_geo': {'$ne': None}})\n",
    "print(have_my_geo, 100*have_my_geo/r)"
   ]
  },
  {
   "cell_type": "code",
   "execution_count": 13,
   "metadata": {},
   "outputs": [
    {
     "name": "stdout",
     "output_type": "stream",
     "text": [
      "{'_id': 'en', 'count': 531462}\n",
      "{'_id': 'es', 'count': 106193}\n",
      "{'_id': 'fr', 'count': 57837}\n",
      "{'_id': 'und', 'count': 7199}\n",
      "{'_id': 'hi', 'count': 3637}\n",
      "{'_id': 'nl', 'count': 2285}\n",
      "{'_id': 'ca', 'count': 1801}\n",
      "{'_id': 'in', 'count': 1378}\n",
      "{'_id': 'tl', 'count': 1190}\n",
      "{'_id': 'pt', 'count': 963}\n"
     ]
    }
   ],
   "source": [
    "pip = [\n",
    "    {'$group': {'_id': '$lang', 'count': {'$sum': 1}}},\n",
    "    {'$sort': SON([('count', pymongo.DESCENDING)])},\n",
    "    {'$limit': 10}\n",
    "]\n",
    "languages = tweets.aggregate(pip)\n",
    "for lang in languages:\n",
    "    print(lang)"
   ]
  },
  {
   "cell_type": "code",
   "execution_count": 14,
   "metadata": {},
   "outputs": [
    {
     "name": "stdout",
     "output_type": "stream",
     "text": [
      "{'_id': 'United States', 'count': 177805}\n",
      "{'_id': 'United Kingdom', 'count': 32726}\n",
      "{'_id': 'Canada', 'count': 24412}\n",
      "{'_id': 'India', 'count': 17992}\n",
      "{'_id': 'France', 'count': 16476}\n",
      "{'_id': 'Mexico', 'count': 8866}\n",
      "{'_id': 'Spain', 'count': 7249}\n",
      "{'_id': 'Ecuador', 'count': 5053}\n",
      "{'_id': 'Australia', 'count': 3793}\n",
      "{'_id': 'Germany', 'count': 3237}\n"
     ]
    }
   ],
   "source": [
    "pip = [\n",
    "    {'$match': {'my_geo': {'$ne': None}}},\n",
    "    {'$group': {'_id': '$my_geo.country', 'count': {'$sum': 1}}},\n",
    "    {'$sort': SON([('count', pymongo.DESCENDING)])},\n",
    "    {'$limit': 10}\n",
    "]\n",
    "countries = tweets.aggregate(pip)\n",
    "for country in countries:\n",
    "    print(country)"
   ]
  }
 ],
 "metadata": {
  "kernelspec": {
   "display_name": "Python 3",
   "language": "python",
   "name": "python3"
  },
  "language_info": {
   "codemirror_mode": {
    "name": "ipython",
    "version": 3
   },
   "file_extension": ".py",
   "mimetype": "text/x-python",
   "name": "python",
   "nbconvert_exporter": "python",
   "pygments_lexer": "ipython3",
   "version": "3.9.0"
  }
 },
 "nbformat": 4,
 "nbformat_minor": 2
}
