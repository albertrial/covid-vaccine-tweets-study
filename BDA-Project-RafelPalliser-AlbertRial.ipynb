{
 "cells": [
  {
   "cell_type": "markdown",
   "metadata": {},
   "source": [
    "<center>\n",
    "    <h1> Study of the Covid-19 Vaccine Acceptance</h1>\n",
    "    <h4> BDA Fall 2020 - Final Project </h4>\n",
    "    <hr>\n",
    "    <br><br>\n",
    "    <h3>Rafel Palliser & Albert Rial</h3>\n",
    "    <br><br>\n",
    "</center>"
   ]
  },
  {
   "cell_type": "markdown",
   "metadata": {},
   "source": [
    "## 1. Problem description"
   ]
  },
  {
   "cell_type": "markdown",
   "metadata": {},
   "source": [
    "The goal of this study is to analyze the acceptance of the Covid-19 Vaccine by examinating tweets referring to it. We truly think this is an important study because Covid-19 has drastically changed our lives, and its vaccine could change them again."
   ]
  },
  {
   "cell_type": "markdown",
   "metadata": {},
   "source": [
    "The followed pipeline starts by gathering the data throughout the Twitter API and storing it into a MongoDB. Once done, we perform a first data exploration to study the different fields contained in a tweet, and if there are missing values in the fields we need for our analysis. Afterwards, the data is processed and cleaned in order to be completely prepared for the study of the vaccine acceptance."
   ]
  },
  {
   "cell_type": "markdown",
   "metadata": {},
   "source": [
    "ALGO MAS?!?"
   ]
  },
  {
   "cell_type": "markdown",
   "metadata": {},
   "source": [
    "Introducció:\n",
    "- Storytelling\n",
    "- (Done) Com fer la query? Quina? (volíem dades al llarg de molt temps, no d'un instant concret)\n",
    "- (Done) covid té hashtag, vacuna no --> triar idiomes --> query #covid 24h ......\n",
    "\n",
    "Data Exploration:\n",
    "- Estudi de fields\n",
    "- Quants són rt, originals, ..?\n",
    "- Estudi de missing values i com estan codificats dels que ens afecten (text, geo)\n",
    "- Explicar GEO!!!\n",
    "- Distribució idiomes\n",
    "- Llista / Mapa d'on estan els tweets\n",
    "- Evolució del nb de tweets al llarg del temps (histograma..) (incloure notícies)\n",
    "- Llista de top hashtags\n",
    "- Llista top words (exclude stopwords,...)?\n",
    "\n",
    "Estudi. Study on the acceptance of covid-19 vaccine:\n",
    "- Mapa / Dist d'on es parla més de cada vacuna (mirar la distribució de la vacuna que es parla més segons el país)\n",
    "- Evolució del sentiment al llarg del temps (relació amb notícies)\n",
    "- Evolució del sentiment al llarg del temps de cada vacuna\n",
    "- Sentiment segons pais. Mapa global de pro-vaccine i anti-vaccine\n",
    "- Sentiment segons pais i vacuna?\n",
    "\n",
    "Hagués estat bé tenir edat/sexe per fer estudi sociologic però no el tenim."
   ]
  },
  {
   "cell_type": "markdown",
   "metadata": {},
   "source": [
    "## 2. Data gathering and storage"
   ]
  },
  {
   "cell_type": "markdown",
   "metadata": {},
   "source": [
    "Data gathering is one of the most important parts of a data project or analysis, although it may not seem so. Sometimes the researcher cannot control this part because others gathered the data, and have to face other more complicated problems to process it and extract valuable information. In this project, we have the opportunity to design the data gathering process, and that's why we have spend much time on it.\n",
    "\n",
    "The constraints on our data gathering process come from the theme of this project, Covid-19 Vaccine Acceptance, and the source we have decided to use, Twitter. Knowing that one of the key interaction factors of this social network are the use of hashtags, we noticed the fact that the Covid-19 Vaccine has not a hashtag associated to it, or at least not a global one in a similar way that Covid-19 has #Covid, #Covid19 or #Covid-19.\n",
    "\n",
    "Also, the word vaccine is written in different ways depending on the language, so in order to not introduce a large bias on languages due to our query, we made a preliminar study of the most used languages in tweets talking about Covid-19. Trying to be as fair as possible, we collected tweets for exactly 24h (to not discriminate any time zone) containing one of the mentioned hashtags associated with Covid-19. We are aware that countries using a non-latin alphabet may refer to the virus in a different way, but we don't aim to obtain tweets in those languages as we won't be able to process the tweet text in our analysis. Taking this into account, we obtained the following results:"
   ]
  },
  {
   "cell_type": "code",
   "execution_count": 14,
   "metadata": {},
   "outputs": [],
   "source": [
    "import pymongo\n",
    "from src.keys import MONGODB_KEY\n",
    "from bson.son import SON\n",
    "\n",
    "client = pymongo.MongoClient('fpsds.synology.me', 27017, username='mongoadmin', password=MONGODB_KEY)\n",
    "db = client['tweets']\n",
    "tweets = db['covid_hashtags_24h']"
   ]
  },
  {
   "cell_type": "markdown",
   "metadata": {},
   "source": [
    "<a id='lang_study'></a>"
   ]
  },
  {
   "cell_type": "code",
   "execution_count": 2,
   "metadata": {},
   "outputs": [
    {
     "name": "stdout",
     "output_type": "stream",
     "text": [
      "Lang         %       Acc %\n",
      "en      61.58%      61.58%\n",
      "es      17.08%      78.66%\n",
      "fr       5.11%      83.77%\n",
      "it       2.87%      86.63%\n",
      "und      2.26%      88.90%\n",
      "de       1.98%      90.88%\n",
      "in       1.42%      92.30%\n",
      "hi       1.22%      93.52%\n",
      "ja       0.95%      94.47%\n",
      "pt       0.93%      95.41%\n"
     ]
    }
   ],
   "source": [
    "pipeline = [\n",
    "    {'$group': {'_id': '$lang', 'count': {'$sum': 1}}},\n",
    "    {\"$sort\": SON([(\"count\", pymongo.DESCENDING)])},\n",
    "    {'$limit': 10}\n",
    "]\n",
    "tot = tweets.count_documents({})\n",
    "res = tweets.aggregate(pipeline)\n",
    "acc = 0\n",
    "langs = []\n",
    "counts = []\n",
    "print('Lang         %       Acc %')\n",
    "for lang in res:\n",
    "    langs.append(lang['_id'])\n",
    "    counts.append(lang['count'])\n",
    "    acc += lang['count']\n",
    "    print('{:4s}    {:5.2f}%      {:5.2f}%'.format(lang['_id'], 100*lang['count']/tot, 100*acc/tot))"
   ]
  },
  {
   "cell_type": "code",
   "execution_count": 3,
   "metadata": {
    "scrolled": true
   },
   "outputs": [
    {
     "data": {
      "image/png": "[encoded data removed]",
      "text/plain": [
       "<Figure size 432x288 with 1 Axes>"
      ]
     },
     "metadata": {
      "needs_background": "light"
     },
     "output_type": "display_data"
    }
   ],
   "source": [
    "from src.plots import barplot\n",
    "barplot(langs, counts, 'Most used languages', 'languages', 'tweet count')"
   ]
  },
  {
   "cell_type": "markdown",
   "metadata": {},
   "source": [
    "Note that more than 60% of tweets are written in English, and another 17% in Spanish. The following most used language is French, which appears in 5% of the tweets, and the subsequent languages are only used in less than 3% of tweets. Looking at the histogram, it seems that the most logical choice would be to only look for tweets written in English. However, as these only cover the 60% of the gathered ones, we decided to also look after the Spanish ones, thus increasing our coverage to almost 80%.\n",
    "\n",
    "Note that this is an approximation, assuming the tweets talking about the Covid-19 vaccine follow the same language distribution that the ones talking about Covid-19 generally."
   ]
  },
  {
   "cell_type": "markdown",
   "metadata": {},
   "source": [
    "### The actual data gathering process"
   ]
  },
  {
   "cell_type": "markdown",
   "metadata": {},
   "source": [
    "The [Twitter API](https://developer.twitter.com/en) provides two main ways of gathering tweets. On one side we have the streaming option, which gets the tweets matching a certain query in real time. On the other, we have the option of dowloading indexed tweets from their database, from which one can download data from the 7-10 prior days with a free developer account.\n",
    "\n",
    "After testing both options, we decided to go for the second one, as we could make queries every 7 days and obtain the tweets for the whole period without having to leave a computer running a script 24/7, much more time. Also, we predicted (now confirmed) that during December the vaccine topic would become more and more trendy, so we wanted to download tweets for a long period of time.\n",
    "\n",
    "[src/collect_tweets.py](src/collect_tweets.py) is the script we have been using to download tweets and insert them in a database. We decided to not include the code in this notebook but leave it in a separate file because we run it asynchronously. In the file, one can see we have used [Tweepy](https://www.tweepy.org/) (a python library wrapping the Twitter API) and the actual parameters we have used to gather tweets. Apart from 'since', 'until' and 'max_id', which serve to control the period of time from we desire to download tweets; there is 'lang', which we set to 'None' (working as 'any') as the API does not accept a list of languages; and the most important one, the query itself: **'#covid OR #covid19 vaccine OR vacuna'**.\n",
    "\n",
    "In the [documentation](https://developer.twitter.com/en/docs/twitter-api/v1/tweets/search/guides/standard-operators) it can be easily seen that the 'OR' operator works as a logical OR betweet the two contiguous terms, and a simple whitespace works as an AND. Therefore, we are looking for tweets that contain (#covid or #covid19) and (vaccine or vacuna). The first part is to ensure the resulting tweets refer to the Covid-19 vaccine (note that #covid also matches #covid-19, so we are covering all the three most-used global hashtags for Covid-19). The second part is to ensure that the tweets specifically refer to the vaccine, and we include the word in English and Spanish as we decided in the previous language study because there is not a unified term to refer to the vaccine globaly. Note that we search for the word and not the hashtag, because although local hashtags #vaccine or #vacuna exists, few people use them. Also note that the way the Twitter search work, our query 'vaccine' also matches a possible hashtag '#vaccine', so we are not losing these results.\n",
    "\n",
    "We have been running this script from November, 29 to XXXX and collected a total amount of XXXX tweets, which have been stored into a MongoDB database."
   ]
  },
  {
   "cell_type": "markdown",
   "metadata": {},
   "source": [
    "### Storage"
   ]
  },
  {
   "cell_type": "markdown",
   "metadata": {},
   "source": [
    "Relational databases are a efficient solution for storage, but require strictly structured data, which does not directly match with tweets, which come in a json format and with several different fields depending on the type of tweet. For this reason, we have decided to use a NoSQL database. Specificaly we have chosen [MongoDB](https://www.mongodb.com/es), which is document oriented and matches the data type perfectly (json-like objects). The fact that we already know its language and it has a Python library ([PyMongo](https://pypi.org/project/pymongo/)) ready to use also played a role in our decision.\n",
    "\n",
    "For this project, we set up a MongoDB server using [Docker](https://www.docker.com/), and left it running in a machine which is visible in the public network, so we are able to work from home with an online, up-to-date and synchronized database, which is always available."
   ]
  },
  {
   "cell_type": "markdown",
   "metadata": {},
   "source": [
    "## 3. Data Description"
   ]
  },
  {
   "cell_type": "markdown",
   "metadata": {},
   "source": [
    "<a id='first_look'></a>\n",
    "### 3.1. First look at our data"
   ]
  },
  {
   "cell_type": "markdown",
   "metadata": {},
   "source": [
    "In this section we are going to present our data, explain the different fields it contains and the ones that will be important for our future analysis."
   ]
  },
  {
   "cell_type": "code",
   "execution_count": 15,
   "metadata": {},
   "outputs": [],
   "source": [
    "# Get the collection that contains all the tweets for our query\n",
    "tweets = db['#covid_vaccine']"
   ]
  },
  {
   "cell_type": "code",
   "execution_count": 16,
   "metadata": {},
   "outputs": [
    {
     "name": "stdout",
     "output_type": "stream",
     "text": [
      "The total amount of tweets in the database is 872828\n"
     ]
    }
   ],
   "source": [
    "# Check the number of tweets in the database\n",
    "n_tweets = tweets.count_documents({})\n",
    "print('The total amount of tweets in the database is {}'.format(n_tweets))"
   ]
  },
  {
   "cell_type": "code",
   "execution_count": 17,
   "metadata": {},
   "outputs": [
    {
     "name": "stdout",
     "output_type": "stream",
     "text": [
      "Collection size = 5.31GB\n"
     ]
    }
   ],
   "source": [
    "# Check the size of the collection (note that this is approximate and includes data and indexes)\n",
    "print('Collection size = {:.2f}GB'.format(db.command(\"collstats\", \"#covid_vaccine\")['size']/1e9))"
   ]
  },
  {
   "cell_type": "markdown",
   "metadata": {},
   "source": [
    "Each collected tweet document has many fields, and printing a complete one would take much space. For this reason, let's take a look to all the possible primary fields (not nested ones) a tweet can have:"
   ]
  },
  {
   "cell_type": "code",
   "execution_count": 18,
   "metadata": {
    "scrolled": true
   },
   "outputs": [
    {
     "ename": "KeyboardInterrupt",
     "evalue": "",
     "output_type": "error",
     "traceback": [
      "\u001b[1;31m---------------------------------------------------------------------------\u001b[0m",
      "\u001b[1;31mKeyboardInterrupt\u001b[0m                         Traceback (most recent call last)",
      "\u001b[1;32m<timed exec>\u001b[0m in \u001b[0;36m<module>\u001b[1;34m\u001b[0m\n",
      "\u001b[1;32mc:\\program files\\python39\\lib\\site-packages\\pymongo\\cursor.py\u001b[0m in \u001b[0;36mnext\u001b[1;34m(self)\u001b[0m\n\u001b[0;32m   1205\u001b[0m         \u001b[1;32mif\u001b[0m \u001b[0mself\u001b[0m\u001b[1;33m.\u001b[0m\u001b[0m__empty\u001b[0m\u001b[1;33m:\u001b[0m\u001b[1;33m\u001b[0m\u001b[1;33m\u001b[0m\u001b[0m\n\u001b[0;32m   1206\u001b[0m             \u001b[1;32mraise\u001b[0m \u001b[0mStopIteration\u001b[0m\u001b[1;33m\u001b[0m\u001b[1;33m\u001b[0m\u001b[0m\n\u001b[1;32m-> 1207\u001b[1;33m         \u001b[1;32mif\u001b[0m \u001b[0mlen\u001b[0m\u001b[1;33m(\u001b[0m\u001b[0mself\u001b[0m\u001b[1;33m.\u001b[0m\u001b[0m__data\u001b[0m\u001b[1;33m)\u001b[0m \u001b[1;32mor\u001b[0m \u001b[0mself\u001b[0m\u001b[1;33m.\u001b[0m\u001b[0m_refresh\u001b[0m\u001b[1;33m(\u001b[0m\u001b[1;33m)\u001b[0m\u001b[1;33m:\u001b[0m\u001b[1;33m\u001b[0m\u001b[1;33m\u001b[0m\u001b[0m\n\u001b[0m\u001b[0;32m   1208\u001b[0m             \u001b[1;32mif\u001b[0m \u001b[0mself\u001b[0m\u001b[1;33m.\u001b[0m\u001b[0m__manipulate\u001b[0m\u001b[1;33m:\u001b[0m\u001b[1;33m\u001b[0m\u001b[1;33m\u001b[0m\u001b[0m\n\u001b[0;32m   1209\u001b[0m                 \u001b[0m_db\u001b[0m \u001b[1;33m=\u001b[0m \u001b[0mself\u001b[0m\u001b[1;33m.\u001b[0m\u001b[0m__collection\u001b[0m\u001b[1;33m.\u001b[0m\u001b[0mdatabase\u001b[0m\u001b[1;33m\u001b[0m\u001b[1;33m\u001b[0m\u001b[0m\n",
      "\u001b[1;32mc:\\program files\\python39\\lib\\site-packages\\pymongo\\cursor.py\u001b[0m in \u001b[0;36m_refresh\u001b[1;34m(self)\u001b[0m\n\u001b[0;32m   1142\u001b[0m                                     \u001b[0mself\u001b[0m\u001b[1;33m.\u001b[0m\u001b[0m__max_await_time_ms\u001b[0m\u001b[1;33m,\u001b[0m\u001b[1;33m\u001b[0m\u001b[1;33m\u001b[0m\u001b[0m\n\u001b[0;32m   1143\u001b[0m                                     self.__exhaust_mgr)\n\u001b[1;32m-> 1144\u001b[1;33m             \u001b[0mself\u001b[0m\u001b[1;33m.\u001b[0m\u001b[0m__send_message\u001b[0m\u001b[1;33m(\u001b[0m\u001b[0mg\u001b[0m\u001b[1;33m)\u001b[0m\u001b[1;33m\u001b[0m\u001b[1;33m\u001b[0m\u001b[0m\n\u001b[0m\u001b[0;32m   1145\u001b[0m \u001b[1;33m\u001b[0m\u001b[0m\n\u001b[0;32m   1146\u001b[0m         \u001b[1;32mreturn\u001b[0m \u001b[0mlen\u001b[0m\u001b[1;33m(\u001b[0m\u001b[0mself\u001b[0m\u001b[1;33m.\u001b[0m\u001b[0m__data\u001b[0m\u001b[1;33m)\u001b[0m\u001b[1;33m\u001b[0m\u001b[1;33m\u001b[0m\u001b[0m\n",
      "\u001b[1;32mc:\\program files\\python39\\lib\\site-packages\\pymongo\\cursor.py\u001b[0m in \u001b[0;36m__send_message\u001b[1;34m(self, operation)\u001b[0m\n\u001b[0;32m    997\u001b[0m \u001b[1;33m\u001b[0m\u001b[0m\n\u001b[0;32m    998\u001b[0m         \u001b[1;32mtry\u001b[0m\u001b[1;33m:\u001b[0m\u001b[1;33m\u001b[0m\u001b[1;33m\u001b[0m\u001b[0m\n\u001b[1;32m--> 999\u001b[1;33m             response = client._run_operation_with_response(\n\u001b[0m\u001b[0;32m   1000\u001b[0m                 \u001b[0moperation\u001b[0m\u001b[1;33m,\u001b[0m \u001b[0mself\u001b[0m\u001b[1;33m.\u001b[0m\u001b[0m_unpack_response\u001b[0m\u001b[1;33m,\u001b[0m \u001b[0mexhaust\u001b[0m\u001b[1;33m=\u001b[0m\u001b[0mself\u001b[0m\u001b[1;33m.\u001b[0m\u001b[0m__exhaust\u001b[0m\u001b[1;33m,\u001b[0m\u001b[1;33m\u001b[0m\u001b[1;33m\u001b[0m\u001b[0m\n\u001b[0;32m   1001\u001b[0m                 address=self.__address)\n",
      "\u001b[1;32mc:\\program files\\python39\\lib\\site-packages\\pymongo\\mongo_client.py\u001b[0m in \u001b[0;36m_run_operation_with_response\u001b[1;34m(self, operation, unpack_res, exhaust, address)\u001b[0m\n\u001b[0;32m   1366\u001b[0m                 unpack_res)\n\u001b[0;32m   1367\u001b[0m \u001b[1;33m\u001b[0m\u001b[0m\n\u001b[1;32m-> 1368\u001b[1;33m         return self._retryable_read(\n\u001b[0m\u001b[0;32m   1369\u001b[0m             \u001b[0m_cmd\u001b[0m\u001b[1;33m,\u001b[0m \u001b[0moperation\u001b[0m\u001b[1;33m.\u001b[0m\u001b[0mread_preference\u001b[0m\u001b[1;33m,\u001b[0m \u001b[0moperation\u001b[0m\u001b[1;33m.\u001b[0m\u001b[0msession\u001b[0m\u001b[1;33m,\u001b[0m\u001b[1;33m\u001b[0m\u001b[1;33m\u001b[0m\u001b[0m\n\u001b[0;32m   1370\u001b[0m             \u001b[0maddress\u001b[0m\u001b[1;33m=\u001b[0m\u001b[0maddress\u001b[0m\u001b[1;33m,\u001b[0m\u001b[1;33m\u001b[0m\u001b[1;33m\u001b[0m\u001b[0m\n",
      "\u001b[1;32mc:\\program files\\python39\\lib\\site-packages\\pymongo\\mongo_client.py\u001b[0m in \u001b[0;36m_retryable_read\u001b[1;34m(self, func, read_pref, session, address, retryable, exhaust)\u001b[0m\n\u001b[0;32m   1469\u001b[0m                         \u001b[1;31m# not support retryable reads, raise the last error.\u001b[0m\u001b[1;33m\u001b[0m\u001b[1;33m\u001b[0m\u001b[1;33m\u001b[0m\u001b[0m\n\u001b[0;32m   1470\u001b[0m                         \u001b[1;32mraise\u001b[0m \u001b[0mlast_error\u001b[0m\u001b[1;33m\u001b[0m\u001b[1;33m\u001b[0m\u001b[0m\n\u001b[1;32m-> 1471\u001b[1;33m                     \u001b[1;32mreturn\u001b[0m \u001b[0mfunc\u001b[0m\u001b[1;33m(\u001b[0m\u001b[0msession\u001b[0m\u001b[1;33m,\u001b[0m \u001b[0mserver\u001b[0m\u001b[1;33m,\u001b[0m \u001b[0msock_info\u001b[0m\u001b[1;33m,\u001b[0m \u001b[0mslave_ok\u001b[0m\u001b[1;33m)\u001b[0m\u001b[1;33m\u001b[0m\u001b[1;33m\u001b[0m\u001b[0m\n\u001b[0m\u001b[0;32m   1472\u001b[0m             \u001b[1;32mexcept\u001b[0m \u001b[0mServerSelectionTimeoutError\u001b[0m\u001b[1;33m:\u001b[0m\u001b[1;33m\u001b[0m\u001b[1;33m\u001b[0m\u001b[0m\n\u001b[0;32m   1473\u001b[0m                 \u001b[1;32mif\u001b[0m \u001b[0mretrying\u001b[0m\u001b[1;33m:\u001b[0m\u001b[1;33m\u001b[0m\u001b[1;33m\u001b[0m\u001b[0m\n",
      "\u001b[1;32mc:\\program files\\python39\\lib\\site-packages\\pymongo\\mongo_client.py\u001b[0m in \u001b[0;36m_cmd\u001b[1;34m(session, server, sock_info, slave_ok)\u001b[0m\n\u001b[0;32m   1358\u001b[0m \u001b[1;33m\u001b[0m\u001b[0m\n\u001b[0;32m   1359\u001b[0m         \u001b[1;32mdef\u001b[0m \u001b[0m_cmd\u001b[0m\u001b[1;33m(\u001b[0m\u001b[0msession\u001b[0m\u001b[1;33m,\u001b[0m \u001b[0mserver\u001b[0m\u001b[1;33m,\u001b[0m \u001b[0msock_info\u001b[0m\u001b[1;33m,\u001b[0m \u001b[0mslave_ok\u001b[0m\u001b[1;33m)\u001b[0m\u001b[1;33m:\u001b[0m\u001b[1;33m\u001b[0m\u001b[1;33m\u001b[0m\u001b[0m\n\u001b[1;32m-> 1360\u001b[1;33m             return server.run_operation_with_response(\n\u001b[0m\u001b[0;32m   1361\u001b[0m                 \u001b[0msock_info\u001b[0m\u001b[1;33m,\u001b[0m\u001b[1;33m\u001b[0m\u001b[1;33m\u001b[0m\u001b[0m\n\u001b[0;32m   1362\u001b[0m                 \u001b[0moperation\u001b[0m\u001b[1;33m,\u001b[0m\u001b[1;33m\u001b[0m\u001b[1;33m\u001b[0m\u001b[0m\n",
      "\u001b[1;32mc:\\program files\\python39\\lib\\site-packages\\pymongo\\server.py\u001b[0m in \u001b[0;36mrun_operation_with_response\u001b[1;34m(self, sock_info, operation, set_slave_okay, listeners, exhaust, unpack_res)\u001b[0m\n\u001b[0;32m    115\u001b[0m             \u001b[1;32mif\u001b[0m \u001b[0msend_message\u001b[0m\u001b[1;33m:\u001b[0m\u001b[1;33m\u001b[0m\u001b[1;33m\u001b[0m\u001b[0m\n\u001b[0;32m    116\u001b[0m                 \u001b[0msock_info\u001b[0m\u001b[1;33m.\u001b[0m\u001b[0msend_message\u001b[0m\u001b[1;33m(\u001b[0m\u001b[0mdata\u001b[0m\u001b[1;33m,\u001b[0m \u001b[0mmax_doc_size\u001b[0m\u001b[1;33m)\u001b[0m\u001b[1;33m\u001b[0m\u001b[1;33m\u001b[0m\u001b[0m\n\u001b[1;32m--> 117\u001b[1;33m                 \u001b[0mreply\u001b[0m \u001b[1;33m=\u001b[0m \u001b[0msock_info\u001b[0m\u001b[1;33m.\u001b[0m\u001b[0mreceive_message\u001b[0m\u001b[1;33m(\u001b[0m\u001b[0mrequest_id\u001b[0m\u001b[1;33m)\u001b[0m\u001b[1;33m\u001b[0m\u001b[1;33m\u001b[0m\u001b[0m\n\u001b[0m\u001b[0;32m    118\u001b[0m             \u001b[1;32melse\u001b[0m\u001b[1;33m:\u001b[0m\u001b[1;33m\u001b[0m\u001b[1;33m\u001b[0m\u001b[0m\n\u001b[0;32m    119\u001b[0m                 \u001b[0mreply\u001b[0m \u001b[1;33m=\u001b[0m \u001b[0msock_info\u001b[0m\u001b[1;33m.\u001b[0m\u001b[0mreceive_message\u001b[0m\u001b[1;33m(\u001b[0m\u001b[1;32mNone\u001b[0m\u001b[1;33m)\u001b[0m\u001b[1;33m\u001b[0m\u001b[1;33m\u001b[0m\u001b[0m\n",
      "\u001b[1;32mc:\\program files\\python39\\lib\\site-packages\\pymongo\\pool.py\u001b[0m in \u001b[0;36mreceive_message\u001b[1;34m(self, request_id)\u001b[0m\n\u001b[0;32m    724\u001b[0m             \u001b[1;32mreturn\u001b[0m \u001b[0mreceive_message\u001b[0m\u001b[1;33m(\u001b[0m\u001b[0mself\u001b[0m\u001b[1;33m,\u001b[0m \u001b[0mrequest_id\u001b[0m\u001b[1;33m,\u001b[0m \u001b[0mself\u001b[0m\u001b[1;33m.\u001b[0m\u001b[0mmax_message_size\u001b[0m\u001b[1;33m)\u001b[0m\u001b[1;33m\u001b[0m\u001b[1;33m\u001b[0m\u001b[0m\n\u001b[0;32m    725\u001b[0m         \u001b[1;32mexcept\u001b[0m \u001b[0mBaseException\u001b[0m \u001b[1;32mas\u001b[0m \u001b[0merror\u001b[0m\u001b[1;33m:\u001b[0m\u001b[1;33m\u001b[0m\u001b[1;33m\u001b[0m\u001b[0m\n\u001b[1;32m--> 726\u001b[1;33m             \u001b[0mself\u001b[0m\u001b[1;33m.\u001b[0m\u001b[0m_raise_connection_failure\u001b[0m\u001b[1;33m(\u001b[0m\u001b[0merror\u001b[0m\u001b[1;33m)\u001b[0m\u001b[1;33m\u001b[0m\u001b[1;33m\u001b[0m\u001b[0m\n\u001b[0m\u001b[0;32m    727\u001b[0m \u001b[1;33m\u001b[0m\u001b[0m\n\u001b[0;32m    728\u001b[0m     \u001b[1;32mdef\u001b[0m \u001b[0m_raise_if_not_writable\u001b[0m\u001b[1;33m(\u001b[0m\u001b[0mself\u001b[0m\u001b[1;33m,\u001b[0m \u001b[0munacknowledged\u001b[0m\u001b[1;33m)\u001b[0m\u001b[1;33m:\u001b[0m\u001b[1;33m\u001b[0m\u001b[1;33m\u001b[0m\u001b[0m\n",
      "\u001b[1;32mc:\\program files\\python39\\lib\\site-packages\\pymongo\\pool.py\u001b[0m in \u001b[0;36mreceive_message\u001b[1;34m(self, request_id)\u001b[0m\n\u001b[0;32m    722\u001b[0m         \"\"\"\n\u001b[0;32m    723\u001b[0m         \u001b[1;32mtry\u001b[0m\u001b[1;33m:\u001b[0m\u001b[1;33m\u001b[0m\u001b[1;33m\u001b[0m\u001b[0m\n\u001b[1;32m--> 724\u001b[1;33m             \u001b[1;32mreturn\u001b[0m \u001b[0mreceive_message\u001b[0m\u001b[1;33m(\u001b[0m\u001b[0mself\u001b[0m\u001b[1;33m,\u001b[0m \u001b[0mrequest_id\u001b[0m\u001b[1;33m,\u001b[0m \u001b[0mself\u001b[0m\u001b[1;33m.\u001b[0m\u001b[0mmax_message_size\u001b[0m\u001b[1;33m)\u001b[0m\u001b[1;33m\u001b[0m\u001b[1;33m\u001b[0m\u001b[0m\n\u001b[0m\u001b[0;32m    725\u001b[0m         \u001b[1;32mexcept\u001b[0m \u001b[0mBaseException\u001b[0m \u001b[1;32mas\u001b[0m \u001b[0merror\u001b[0m\u001b[1;33m:\u001b[0m\u001b[1;33m\u001b[0m\u001b[1;33m\u001b[0m\u001b[0m\n\u001b[0;32m    726\u001b[0m             \u001b[0mself\u001b[0m\u001b[1;33m.\u001b[0m\u001b[0m_raise_connection_failure\u001b[0m\u001b[1;33m(\u001b[0m\u001b[0merror\u001b[0m\u001b[1;33m)\u001b[0m\u001b[1;33m\u001b[0m\u001b[1;33m\u001b[0m\u001b[0m\n",
      "\u001b[1;32mc:\\program files\\python39\\lib\\site-packages\\pymongo\\network.py\u001b[0m in \u001b[0;36mreceive_message\u001b[1;34m(sock_info, request_id, max_message_size)\u001b[0m\n\u001b[0;32m    213\u001b[0m             compressor_id)\n\u001b[0;32m    214\u001b[0m     \u001b[1;32melse\u001b[0m\u001b[1;33m:\u001b[0m\u001b[1;33m\u001b[0m\u001b[1;33m\u001b[0m\u001b[0m\n\u001b[1;32m--> 215\u001b[1;33m         \u001b[0mdata\u001b[0m \u001b[1;33m=\u001b[0m \u001b[0m_receive_data_on_socket\u001b[0m\u001b[1;33m(\u001b[0m\u001b[0msock_info\u001b[0m\u001b[1;33m,\u001b[0m \u001b[0mlength\u001b[0m \u001b[1;33m-\u001b[0m \u001b[1;36m16\u001b[0m\u001b[1;33m,\u001b[0m \u001b[0mdeadline\u001b[0m\u001b[1;33m)\u001b[0m\u001b[1;33m\u001b[0m\u001b[1;33m\u001b[0m\u001b[0m\n\u001b[0m\u001b[0;32m    216\u001b[0m \u001b[1;33m\u001b[0m\u001b[0m\n\u001b[0;32m    217\u001b[0m     \u001b[1;32mtry\u001b[0m\u001b[1;33m:\u001b[0m\u001b[1;33m\u001b[0m\u001b[1;33m\u001b[0m\u001b[0m\n",
      "\u001b[1;32mc:\\program files\\python39\\lib\\site-packages\\pymongo\\network.py\u001b[0m in \u001b[0;36m_receive_data_on_socket\u001b[1;34m(sock_info, length, deadline)\u001b[0m\n\u001b[0;32m    285\u001b[0m             \u001b[1;32mtry\u001b[0m\u001b[1;33m:\u001b[0m\u001b[1;33m\u001b[0m\u001b[1;33m\u001b[0m\u001b[0m\n\u001b[0;32m    286\u001b[0m                 \u001b[0mwait_for_read\u001b[0m\u001b[1;33m(\u001b[0m\u001b[0msock_info\u001b[0m\u001b[1;33m,\u001b[0m \u001b[0mdeadline\u001b[0m\u001b[1;33m)\u001b[0m\u001b[1;33m\u001b[0m\u001b[1;33m\u001b[0m\u001b[0m\n\u001b[1;32m--> 287\u001b[1;33m                 \u001b[0mchunk_length\u001b[0m \u001b[1;33m=\u001b[0m \u001b[0msock_info\u001b[0m\u001b[1;33m.\u001b[0m\u001b[0msock\u001b[0m\u001b[1;33m.\u001b[0m\u001b[0mrecv_into\u001b[0m\u001b[1;33m(\u001b[0m\u001b[0mmv\u001b[0m\u001b[1;33m[\u001b[0m\u001b[0mbytes_read\u001b[0m\u001b[1;33m:\u001b[0m\u001b[1;33m]\u001b[0m\u001b[1;33m)\u001b[0m\u001b[1;33m\u001b[0m\u001b[1;33m\u001b[0m\u001b[0m\n\u001b[0m\u001b[0;32m    288\u001b[0m             \u001b[1;32mexcept\u001b[0m \u001b[1;33m(\u001b[0m\u001b[0mIOError\u001b[0m\u001b[1;33m,\u001b[0m \u001b[0mOSError\u001b[0m\u001b[1;33m)\u001b[0m \u001b[1;32mas\u001b[0m \u001b[0mexc\u001b[0m\u001b[1;33m:\u001b[0m\u001b[1;33m\u001b[0m\u001b[1;33m\u001b[0m\u001b[0m\n\u001b[0;32m    289\u001b[0m                 \u001b[1;32mif\u001b[0m \u001b[0m_errno_from_exception\u001b[0m\u001b[1;33m(\u001b[0m\u001b[0mexc\u001b[0m\u001b[1;33m)\u001b[0m \u001b[1;33m==\u001b[0m \u001b[0merrno\u001b[0m\u001b[1;33m.\u001b[0m\u001b[0mEINTR\u001b[0m\u001b[1;33m:\u001b[0m\u001b[1;33m\u001b[0m\u001b[1;33m\u001b[0m\u001b[0m\n",
      "\u001b[1;31mKeyboardInterrupt\u001b[0m: "
     ]
    }
   ],
   "source": [
    "%%time\n",
    "\n",
    "key_set = set()\n",
    "for tweet in tweets.find({}):\n",
    "    tweet_keys = tweet.keys()\n",
    "    key_set = key_set.union(tweet_keys)\n",
    "print(sorted(list(key_set)))"
   ]
  },
  {
   "cell_type": "markdown",
   "metadata": {},
   "source": [
    "2 minuts if localhost"
   ]
  },
  {
   "cell_type": "markdown",
   "metadata": {},
   "source": [
    "Note how retrieving all documents to perform computations is a really bad idea. In fact, we are actually moving approximately 5GB through the network without taking advantage of the power of databases, which are optimized to perform these kind of operations. For this reason, we are going to do the same in the DB side, by applying a MapReduce model:"
   ]
  },
  {
   "cell_type": "code",
   "execution_count": 19,
   "metadata": {},
   "outputs": [
    {
     "ename": "KeyboardInterrupt",
     "evalue": "",
     "output_type": "error",
     "traceback": [
      "\u001b[1;31m---------------------------------------------------------------------------\u001b[0m",
      "\u001b[1;31mKeyboardInterrupt\u001b[0m                         Traceback (most recent call last)",
      "\u001b[1;32m<timed exec>\u001b[0m in \u001b[0;36m<module>\u001b[1;34m\u001b[0m\n",
      "\u001b[1;32mc:\\program files\\python39\\lib\\site-packages\\pymongo\\collection.py\u001b[0m in \u001b[0;36mmap_reduce\u001b[1;34m(self, map, reduce, out, full_response, session, **kwargs)\u001b[0m\n\u001b[0;32m   2848\u001b[0m                             \"%s or a mapping\" % (string_type.__name__,))\n\u001b[0;32m   2849\u001b[0m \u001b[1;33m\u001b[0m\u001b[0m\n\u001b[1;32m-> 2850\u001b[1;33m         response = self._map_reduce(map, reduce, out, session,\n\u001b[0m\u001b[0;32m   2851\u001b[0m                                     ReadPreference.PRIMARY, **kwargs)\n\u001b[0;32m   2852\u001b[0m \u001b[1;33m\u001b[0m\u001b[0m\n",
      "\u001b[1;32mc:\\program files\\python39\\lib\\site-packages\\pymongo\\collection.py\u001b[0m in \u001b[0;36m_map_reduce\u001b[1;34m(self, map, reduce, out, session, read_pref, **kwargs)\u001b[0m\n\u001b[0;32m   2782\u001b[0m                 \u001b[0mwrite_concern\u001b[0m \u001b[1;33m=\u001b[0m \u001b[1;32mNone\u001b[0m\u001b[1;33m\u001b[0m\u001b[1;33m\u001b[0m\u001b[0m\n\u001b[0;32m   2783\u001b[0m \u001b[1;33m\u001b[0m\u001b[0m\n\u001b[1;32m-> 2784\u001b[1;33m             return self._command(\n\u001b[0m\u001b[0;32m   2785\u001b[0m                 \u001b[0msock_info\u001b[0m\u001b[1;33m,\u001b[0m \u001b[0mcmd\u001b[0m\u001b[1;33m,\u001b[0m \u001b[0mslave_ok\u001b[0m\u001b[1;33m,\u001b[0m \u001b[0mread_pref\u001b[0m\u001b[1;33m,\u001b[0m\u001b[1;33m\u001b[0m\u001b[1;33m\u001b[0m\u001b[0m\n\u001b[0;32m   2786\u001b[0m                 \u001b[0mread_concern\u001b[0m\u001b[1;33m=\u001b[0m\u001b[0mread_concern\u001b[0m\u001b[1;33m,\u001b[0m\u001b[1;33m\u001b[0m\u001b[1;33m\u001b[0m\u001b[0m\n",
      "\u001b[1;32mc:\\program files\\python39\\lib\\site-packages\\pymongo\\collection.py\u001b[0m in \u001b[0;36m_command\u001b[1;34m(self, sock_info, command, slave_ok, read_preference, codec_options, check, allowable_errors, read_concern, write_concern, collation, session, retryable_write, user_fields)\u001b[0m\n\u001b[0;32m    236\u001b[0m         \"\"\"\n\u001b[0;32m    237\u001b[0m         \u001b[1;32mwith\u001b[0m \u001b[0mself\u001b[0m\u001b[1;33m.\u001b[0m\u001b[0m__database\u001b[0m\u001b[1;33m.\u001b[0m\u001b[0mclient\u001b[0m\u001b[1;33m.\u001b[0m\u001b[0m_tmp_session\u001b[0m\u001b[1;33m(\u001b[0m\u001b[0msession\u001b[0m\u001b[1;33m)\u001b[0m \u001b[1;32mas\u001b[0m \u001b[0ms\u001b[0m\u001b[1;33m:\u001b[0m\u001b[1;33m\u001b[0m\u001b[1;33m\u001b[0m\u001b[0m\n\u001b[1;32m--> 238\u001b[1;33m             return sock_info.command(\n\u001b[0m\u001b[0;32m    239\u001b[0m                 \u001b[0mself\u001b[0m\u001b[1;33m.\u001b[0m\u001b[0m__database\u001b[0m\u001b[1;33m.\u001b[0m\u001b[0mname\u001b[0m\u001b[1;33m,\u001b[0m\u001b[1;33m\u001b[0m\u001b[1;33m\u001b[0m\u001b[0m\n\u001b[0;32m    240\u001b[0m                 \u001b[0mcommand\u001b[0m\u001b[1;33m,\u001b[0m\u001b[1;33m\u001b[0m\u001b[1;33m\u001b[0m\u001b[0m\n",
      "\u001b[1;32mc:\\program files\\python39\\lib\\site-packages\\pymongo\\pool.py\u001b[0m in \u001b[0;36mcommand\u001b[1;34m(self, dbname, spec, slave_ok, read_preference, codec_options, check, allowable_errors, check_keys, read_concern, write_concern, parse_write_concern_error, collation, session, client, retryable_write, publish_events, user_fields, exhaust_allowed)\u001b[0m\n\u001b[0;32m    697\u001b[0m         \u001b[1;31m# Catch socket.error, KeyboardInterrupt, etc. and close ourselves.\u001b[0m\u001b[1;33m\u001b[0m\u001b[1;33m\u001b[0m\u001b[1;33m\u001b[0m\u001b[0m\n\u001b[0;32m    698\u001b[0m         \u001b[1;32mexcept\u001b[0m \u001b[0mBaseException\u001b[0m \u001b[1;32mas\u001b[0m \u001b[0merror\u001b[0m\u001b[1;33m:\u001b[0m\u001b[1;33m\u001b[0m\u001b[1;33m\u001b[0m\u001b[0m\n\u001b[1;32m--> 699\u001b[1;33m             \u001b[0mself\u001b[0m\u001b[1;33m.\u001b[0m\u001b[0m_raise_connection_failure\u001b[0m\u001b[1;33m(\u001b[0m\u001b[0merror\u001b[0m\u001b[1;33m)\u001b[0m\u001b[1;33m\u001b[0m\u001b[1;33m\u001b[0m\u001b[0m\n\u001b[0m\u001b[0;32m    700\u001b[0m \u001b[1;33m\u001b[0m\u001b[0m\n\u001b[0;32m    701\u001b[0m     \u001b[1;32mdef\u001b[0m \u001b[0msend_message\u001b[0m\u001b[1;33m(\u001b[0m\u001b[0mself\u001b[0m\u001b[1;33m,\u001b[0m \u001b[0mmessage\u001b[0m\u001b[1;33m,\u001b[0m \u001b[0mmax_doc_size\u001b[0m\u001b[1;33m)\u001b[0m\u001b[1;33m:\u001b[0m\u001b[1;33m\u001b[0m\u001b[1;33m\u001b[0m\u001b[0m\n",
      "\u001b[1;32mc:\\program files\\python39\\lib\\site-packages\\pymongo\\pool.py\u001b[0m in \u001b[0;36mcommand\u001b[1;34m(self, dbname, spec, slave_ok, read_preference, codec_options, check, allowable_errors, check_keys, read_concern, write_concern, parse_write_concern_error, collation, session, client, retryable_write, publish_events, user_fields, exhaust_allowed)\u001b[0m\n\u001b[0;32m    681\u001b[0m             \u001b[0mself\u001b[0m\u001b[1;33m.\u001b[0m\u001b[0m_raise_if_not_writable\u001b[0m\u001b[1;33m(\u001b[0m\u001b[0munacknowledged\u001b[0m\u001b[1;33m)\u001b[0m\u001b[1;33m\u001b[0m\u001b[1;33m\u001b[0m\u001b[0m\n\u001b[0;32m    682\u001b[0m         \u001b[1;32mtry\u001b[0m\u001b[1;33m:\u001b[0m\u001b[1;33m\u001b[0m\u001b[1;33m\u001b[0m\u001b[0m\n\u001b[1;32m--> 683\u001b[1;33m             return command(self, dbname, spec, slave_ok,\n\u001b[0m\u001b[0;32m    684\u001b[0m                            \u001b[0mself\u001b[0m\u001b[1;33m.\u001b[0m\u001b[0mis_mongos\u001b[0m\u001b[1;33m,\u001b[0m \u001b[0mread_preference\u001b[0m\u001b[1;33m,\u001b[0m \u001b[0mcodec_options\u001b[0m\u001b[1;33m,\u001b[0m\u001b[1;33m\u001b[0m\u001b[1;33m\u001b[0m\u001b[0m\n\u001b[0;32m    685\u001b[0m                            \u001b[0msession\u001b[0m\u001b[1;33m,\u001b[0m \u001b[0mclient\u001b[0m\u001b[1;33m,\u001b[0m \u001b[0mcheck\u001b[0m\u001b[1;33m,\u001b[0m \u001b[0mallowable_errors\u001b[0m\u001b[1;33m,\u001b[0m\u001b[1;33m\u001b[0m\u001b[1;33m\u001b[0m\u001b[0m\n",
      "\u001b[1;32mc:\\program files\\python39\\lib\\site-packages\\pymongo\\network.py\u001b[0m in \u001b[0;36mcommand\u001b[1;34m(sock_info, dbname, spec, slave_ok, is_mongos, read_preference, codec_options, session, client, check, allowable_errors, address, check_keys, listeners, max_bson_size, read_concern, parse_write_concern_error, collation, compression_ctx, use_op_msg, unacknowledged, user_fields, exhaust_allowed)\u001b[0m\n\u001b[0;32m    148\u001b[0m             \u001b[0mresponse_doc\u001b[0m \u001b[1;33m=\u001b[0m \u001b[1;33m{\u001b[0m\u001b[1;34m\"ok\"\u001b[0m\u001b[1;33m:\u001b[0m \u001b[1;36m1\u001b[0m\u001b[1;33m}\u001b[0m\u001b[1;33m\u001b[0m\u001b[1;33m\u001b[0m\u001b[0m\n\u001b[0;32m    149\u001b[0m         \u001b[1;32melse\u001b[0m\u001b[1;33m:\u001b[0m\u001b[1;33m\u001b[0m\u001b[1;33m\u001b[0m\u001b[0m\n\u001b[1;32m--> 150\u001b[1;33m             \u001b[0mreply\u001b[0m \u001b[1;33m=\u001b[0m \u001b[0mreceive_message\u001b[0m\u001b[1;33m(\u001b[0m\u001b[0msock_info\u001b[0m\u001b[1;33m,\u001b[0m \u001b[0mrequest_id\u001b[0m\u001b[1;33m)\u001b[0m\u001b[1;33m\u001b[0m\u001b[1;33m\u001b[0m\u001b[0m\n\u001b[0m\u001b[0;32m    151\u001b[0m             \u001b[0msock_info\u001b[0m\u001b[1;33m.\u001b[0m\u001b[0mmore_to_come\u001b[0m \u001b[1;33m=\u001b[0m \u001b[0mreply\u001b[0m\u001b[1;33m.\u001b[0m\u001b[0mmore_to_come\u001b[0m\u001b[1;33m\u001b[0m\u001b[1;33m\u001b[0m\u001b[0m\n\u001b[0;32m    152\u001b[0m             unpacked_docs = reply.unpack_response(\n",
      "\u001b[1;32mc:\\program files\\python39\\lib\\site-packages\\pymongo\\network.py\u001b[0m in \u001b[0;36mreceive_message\u001b[1;34m(sock_info, request_id, max_message_size)\u001b[0m\n\u001b[0;32m    194\u001b[0m     \u001b[1;31m# Ignore the response's request id.\u001b[0m\u001b[1;33m\u001b[0m\u001b[1;33m\u001b[0m\u001b[1;33m\u001b[0m\u001b[0m\n\u001b[0;32m    195\u001b[0m     length, _, response_to, op_code = _UNPACK_HEADER(\n\u001b[1;32m--> 196\u001b[1;33m         _receive_data_on_socket(sock_info, 16, deadline))\n\u001b[0m\u001b[0;32m    197\u001b[0m     \u001b[1;31m# No request_id for exhaust cursor \"getMore\".\u001b[0m\u001b[1;33m\u001b[0m\u001b[1;33m\u001b[0m\u001b[1;33m\u001b[0m\u001b[0m\n\u001b[0;32m    198\u001b[0m     \u001b[1;32mif\u001b[0m \u001b[0mrequest_id\u001b[0m \u001b[1;32mis\u001b[0m \u001b[1;32mnot\u001b[0m \u001b[1;32mNone\u001b[0m\u001b[1;33m:\u001b[0m\u001b[1;33m\u001b[0m\u001b[1;33m\u001b[0m\u001b[0m\n",
      "\u001b[1;32mc:\\program files\\python39\\lib\\site-packages\\pymongo\\network.py\u001b[0m in \u001b[0;36m_receive_data_on_socket\u001b[1;34m(sock_info, length, deadline)\u001b[0m\n\u001b[0;32m    285\u001b[0m             \u001b[1;32mtry\u001b[0m\u001b[1;33m:\u001b[0m\u001b[1;33m\u001b[0m\u001b[1;33m\u001b[0m\u001b[0m\n\u001b[0;32m    286\u001b[0m                 \u001b[0mwait_for_read\u001b[0m\u001b[1;33m(\u001b[0m\u001b[0msock_info\u001b[0m\u001b[1;33m,\u001b[0m \u001b[0mdeadline\u001b[0m\u001b[1;33m)\u001b[0m\u001b[1;33m\u001b[0m\u001b[1;33m\u001b[0m\u001b[0m\n\u001b[1;32m--> 287\u001b[1;33m                 \u001b[0mchunk_length\u001b[0m \u001b[1;33m=\u001b[0m \u001b[0msock_info\u001b[0m\u001b[1;33m.\u001b[0m\u001b[0msock\u001b[0m\u001b[1;33m.\u001b[0m\u001b[0mrecv_into\u001b[0m\u001b[1;33m(\u001b[0m\u001b[0mmv\u001b[0m\u001b[1;33m[\u001b[0m\u001b[0mbytes_read\u001b[0m\u001b[1;33m:\u001b[0m\u001b[1;33m]\u001b[0m\u001b[1;33m)\u001b[0m\u001b[1;33m\u001b[0m\u001b[1;33m\u001b[0m\u001b[0m\n\u001b[0m\u001b[0;32m    288\u001b[0m             \u001b[1;32mexcept\u001b[0m \u001b[1;33m(\u001b[0m\u001b[0mIOError\u001b[0m\u001b[1;33m,\u001b[0m \u001b[0mOSError\u001b[0m\u001b[1;33m)\u001b[0m \u001b[1;32mas\u001b[0m \u001b[0mexc\u001b[0m\u001b[1;33m:\u001b[0m\u001b[1;33m\u001b[0m\u001b[1;33m\u001b[0m\u001b[0m\n\u001b[0;32m    289\u001b[0m                 \u001b[1;32mif\u001b[0m \u001b[0m_errno_from_exception\u001b[0m\u001b[1;33m(\u001b[0m\u001b[0mexc\u001b[0m\u001b[1;33m)\u001b[0m \u001b[1;33m==\u001b[0m \u001b[0merrno\u001b[0m\u001b[1;33m.\u001b[0m\u001b[0mEINTR\u001b[0m\u001b[1;33m:\u001b[0m\u001b[1;33m\u001b[0m\u001b[1;33m\u001b[0m\u001b[0m\n",
      "\u001b[1;31mKeyboardInterrupt\u001b[0m: "
     ]
    }
   ],
   "source": [
    "%%time\n",
    "\n",
    "# Take advantage of MapReduce, which is executed on the DB side\n",
    "# Map function: Emit each key. We assign a value 'null' because we are only interested in the keys\n",
    "# Shuffle: We will have a list of nulls for each different key\n",
    "# Reduce: Don't look at the list 's', just return 'null' as we don't want any value, only the different keys\n",
    "# Output: Store the information in a new collection\n",
    "tweet_keys = tweets.map_reduce(\"\"\"function() {for (var key in this) {emit(key, null);}}\"\"\", \n",
    "                  \"\"\"function(key, s) {return null;}\"\"\",\n",
    "                  \"#covid_vaccine_keys\")\n",
    "keys = tweet_keys.find({},{'value': 0})\n",
    "print([e['_id'] for e in keys])"
   ]
  },
  {
   "cell_type": "markdown",
   "metadata": {},
   "source": [
    "We obtain the same exact result while working 60 times faster! The meaning of all these fields is explained in the [Twitter API website](https://developer.twitter.com/en/docs/twitter-api/premium/data-dictionary/object-model/tweet), but we are going to review the ones that are interesting for our work:\n",
    "- `_id` is the MongoDB unique id, which we manually set to be the tweet `id`, which is also unique and increases chronologically. It is encoded as an int64 and can also be found string formatted at `id_str`.\n",
    "- `coordinates` contains the longitude and latitude from where the tweet was sent. `coordinates.coordinates` is a 2-dimensional array. Null if geolocalization is deactivated.\n",
    "- `created_at` is a string containing the UCT timestamp of the creation of the tweet. Example: \"Wed Oct 10 20:19:24 +0000 2018\"\n",
    "- `display_text_range` is an array containing the offsets of the characters that form the real text message. Note that when you reply to a tweet, your own tweet starts with the user mention `@user`, which is not part of your reply text.\n",
    "- `entities` is an object-like attribute that contains, among others, the detected hashtags `#hashtag` and user mentions `@user` along with their character offsets.\n",
    "- `full_text` is the most important field, containing the actual text of the tweet.\n",
    "- `geo` is a deprecated field, now substituted by `coordinates`. Null if geolocalization is deactivated.\n",
    "- `in_reply_to` family of attributes indicate if a tweet is actually a reply of another one, its id and its author. Null for non-reply tweets.\n",
    "- `lang` indicates the language of the tweet, detected in a best-effort manner.\n",
    "- `place` is an object-like field which includes information about the place from which a tweet has been sent (not only coordinates, but also country and sometimes city or even neighbourhood). Null if geolocalization is deactivated.\n",
    "- `quoted_status` is an attribute only present if the tweet contains a quote to another tweet. The value of this attribute, if present, is another whole tweet object.\n",
    "- `retweeted_status` is a field which is only present if the tweet is actually a retweet of another original tweet, contained in the attribute.\n",
    "- `truncated` is a compatibility flag which indicates if a tweet text is truncated to 140 characters. It will be false in all our documents as we enabled 'extended_mode' in our query (see [src/collect_tweets.py](src/collect_tweets.py))\n",
    "- `user` is a whole object with lots of different fields regarding the author of the tweet. Specifically, `user.location` is interesting because it shows the location the user has set to be visible in its profile. Note that this is a free field, and the user can write anything on it."
   ]
  },
  {
   "cell_type": "markdown",
   "metadata": {},
   "source": [
    "Let's see a tweet projecting the attributes we really are interested in:"
   ]
  },
  {
   "cell_type": "code",
   "execution_count": 47,
   "metadata": {
    "scrolled": false
   },
   "outputs": [
    {
     "data": {
      "text/plain": [
       "{'_id': 1336317355832602627,\n",
       " 'created_at': 'Tue Dec 08 14:30:59 +0000 2020',\n",
       " 'full_text': 'Covid-19: Big pharma to the rescue | Our winter 2020 #coverstory looks at what IR is like under the coronavirus spotlight. We hear from @AstraZeneca, CureVac, @Sentieo and @MorganStanley on the impact for the sector | IR Magazine https://t.co/nnpwucYkSi #irchat #covid19 #vaccine',\n",
       " 'display_text_range': [0, 279],\n",
       " 'entities': {'hashtags': [{'text': 'coverstory', 'indices': [53, 64]},\n",
       "   {'text': 'irchat', 'indices': [254, 261]},\n",
       "   {'text': 'covid19', 'indices': [262, 270]},\n",
       "   {'text': 'vaccine', 'indices': [271, 279]}]},\n",
       " 'in_reply_to_status_id': None,\n",
       " 'user': {'location': 'Global'},\n",
       " 'coordinates': None,\n",
       " 'place': None,\n",
       " 'lang': 'en'}"
      ]
     },
     "execution_count": 47,
     "metadata": {},
     "output_type": "execute_result"
    }
   ],
   "source": [
    "tweets.find_one({},{'_id':1, 'coordinates':1, 'created_at':1, 'display_text_range':1, \n",
    "                    'entities.hashtags':1, 'full_text':1, 'in_reply_to_status_id':1, 'lang':1, \n",
    "                    'place':1, 'quoted_status':1, 'retweeted_status':1, 'user.location':1})"
   ]
  },
  {
   "cell_type": "raw",
   "metadata": {},
   "source": [
    "{'_id': 1336317355832602627,\n",
    " 'created_at': 'Tue Dec 08 14:30:59 +0000 2020',\n",
    " 'full_text': 'Covid-19: Big pharma to the rescue | Our winter 2020 #coverstory looks at what IR is like under the coronavirus spotlight. We hear from @AstraZeneca, CureVac, @Sentieo and @MorganStanley on the impact for the sector | IR Magazine https://t.co/nnpwucYkSi #irchat #covid19 #vaccine',\n",
    " 'display_text_range': [0, 279],\n",
    " 'entities': {'hashtags': [{'text': 'coverstory', 'indices': [53, 64]},\n",
    "   {'text': 'irchat', 'indices': [254, 261]},\n",
    "   {'text': 'covid19', 'indices': [262, 270]},\n",
    "   {'text': 'vaccine', 'indices': [271, 279]}]},\n",
    " 'in_reply_to_status_id': None,\n",
    " 'user': {'location': 'Global'},\n",
    " 'coordinates': None,\n",
    " 'place': None,\n",
    " 'lang': 'en'}"
   ]
  },
  {
   "cell_type": "markdown",
   "metadata": {},
   "source": [
    "From the result, apart from the directly interpretable attributes, we can see that this user has not enabled geolocalization because both `place` and `coordinates` are None. Also, we can see that the location she uses in her profile `user.location` is actually not providing any information about that. Additionally, we can state this is an original tweet, as it is not a retweet nor a quote (as those attributes do not appear)."
   ]
  },
  {
   "cell_type": "markdown",
   "metadata": {},
   "source": [
    "### 3.2. Study of the different fields"
   ]
  },
  {
   "cell_type": "markdown",
   "metadata": {},
   "source": [
    "In this section we are going to study the fields that are important for our analysis in more depth."
   ]
  },
  {
   "cell_type": "markdown",
   "metadata": {},
   "source": [
    "#### Tweet \"type\""
   ]
  },
  {
   "cell_type": "markdown",
   "metadata": {},
   "source": [
    "Recognizing the tweet type is important for several reasons.\n",
    "\n",
    "The first and most important one is to understand the possible interactions in Twitter, and what they imply. A retweet shows agreement with what the original tweet said. However, when quoting, the author can agree or not with the quoted tweet. \n",
    "\n",
    "Second, the key information is stored in different fields depending on the tweet type, so identifying it is key for the analysis."
   ]
  },
  {
   "cell_type": "markdown",
   "metadata": {},
   "source": [
    "Note that replies (comments to an \"original\" tweet) will be treated as original tweets themselves, because they don't provide information of the tweet they replied, only the tweet id, which is usually not found in the database."
   ]
  },
  {
   "cell_type": "code",
   "execution_count": 21,
   "metadata": {},
   "outputs": [
    {
     "name": "stdout",
     "output_type": "stream",
     "text": [
      "Only 2609 replied tweets are contained in the datbase. This is a 12.10% of the number of replies.\n"
     ]
    }
   ],
   "source": [
    "# Check if replied tweets are in the database\n",
    "replies = tweets.find({'in_reply_to_status_id': {'$ne': None}}, {'in_reply_to_status_id':1, '_id':0})\n",
    "list_of_replied_ids = [e['in_reply_to_status_id'] for e in replies]\n",
    "\n",
    "count = tweets.count_documents({'_id': {'$in': list_of_replied_ids}})\n",
    "print('Only {} replied tweets are contained in the datbase. This is a {:.2f}% of the number of replies.'.format(count, 100*count/len(list_of_replied_ids)))"
   ]
  },
  {
   "cell_type": "markdown",
   "metadata": {},
   "source": [
    "As seen in [Section 3.1](#first_look), we can recognize if a tweet object is a retweet by the appearence of the `retweeted_status` attribute. Same with `quoted_status` for quote tweets."
   ]
  },
  {
   "cell_type": "code",
   "execution_count": 22,
   "metadata": {},
   "outputs": [
    {
     "name": "stdout",
     "output_type": "stream",
     "text": [
      "There are 176775 original tweets, representing a 20.25% of the total amount.\n",
      "There are 674140 retweets, representing a 77.24% of the total amount.\n",
      "There are 21913 quotes, representing a 2.51% of the total amount.\n"
     ]
    }
   ],
   "source": [
    "n_retweets = tweets.count_documents({'retweeted_status': {'$exists': True}})\n",
    "n_quotes = tweets.count_documents({'quoted_status': {'$exists': True}})\n",
    "n_originals = n_tweets - n_retweets - n_quotes\n",
    "\n",
    "print('There are {} original tweets, representing a {:.2f}% of the total amount.'.format(n_originals, 100*n_originals/n_tweets))\n",
    "print('There are {} retweets, representing a {:.2f}% of the total amount.'.format(n_retweets, 100*n_retweets/n_tweets))\n",
    "print('There are {} quotes, representing a {:.2f}% of the total amount.'.format(n_quotes, 100*n_quotes/n_tweets))"
   ]
  },
  {
   "cell_type": "markdown",
   "metadata": {},
   "source": [
    "Note that the vast majority of tweet objects correspond to retweets, then we have a 20% original tweets, and a small amount of quotes."
   ]
  },
  {
   "cell_type": "markdown",
   "metadata": {},
   "source": [
    "Now let's see how the tweet text is shown in each of these tweet types. Starting with original ones:"
   ]
  },
  {
   "cell_type": "code",
   "execution_count": 24,
   "metadata": {},
   "outputs": [
    {
     "name": "stdout",
     "output_type": "stream",
     "text": [
      "Covid-19: Big pharma to the rescue | Our winter 2020 #coverstory looks at what IR is like under the coronavirus spotlight. We hear from @AstraZeneca, CureVac, @Sentieo and @MorganStanley on the impact for the sector | IR Magazine https://t.co/nnpwucYkSi #irchat #covid19 #vaccine\n"
     ]
    }
   ],
   "source": [
    "original = tweets.find_one({'retweeted_status': {'$exists': False}, 'quoted_status': {'$exists': False}})\n",
    "print(original['full_text'])"
   ]
  },
  {
   "cell_type": "markdown",
   "metadata": {},
   "source": [
    "Nothing to say about this, `full_text` seems to show the text of the original tweet. Let's move to retweets:"
   ]
  },
  {
   "cell_type": "code",
   "execution_count": 26,
   "metadata": {},
   "outputs": [
    {
     "name": "stdout",
     "output_type": "stream",
     "text": [
      "RT @BungerKCBSRadio: Surge. Vaccine. Lockdown.  So many hot #COVID19 topics right now. I'll have @Bob_Wachter with me for #AskAnExpert at 9…\n"
     ]
    }
   ],
   "source": [
    "retweet = tweets.find_one({'retweeted_status': {'$exists': True}})\n",
    "print(retweet['full_text'])"
   ]
  },
  {
   "cell_type": "markdown",
   "metadata": {},
   "source": [
    "Two things to note here. To begin with, first characters 'RT' indicate it is a retweet. Next ones indicate from whom the retweeted tweet was. Therefore, this characters do not really form part of the text. Second, if we now take a look to `display_text_range`, we can see that the tweet has exactly 140 characters, which is a strange coincidence taking into account that we just saw the text ends in '...':"
   ]
  },
  {
   "cell_type": "code",
   "execution_count": 28,
   "metadata": {},
   "outputs": [
    {
     "name": "stdout",
     "output_type": "stream",
     "text": [
      "[0, 140]\n"
     ]
    }
   ],
   "source": [
    "print(retweet['display_text_range'])"
   ]
  },
  {
   "cell_type": "markdown",
   "metadata": {},
   "source": [
    "Looking at the text of the retweeted status:"
   ]
  },
  {
   "cell_type": "code",
   "execution_count": 30,
   "metadata": {},
   "outputs": [
    {
     "name": "stdout",
     "output_type": "stream",
     "text": [
      "Surge. Vaccine. Lockdown.  So many hot #COVID19 topics right now. I'll have @Bob_Wachter with me for #AskAnExpert at 9:20 AM PST. Send questions to: askus@kcbsradio.com then listen at 9:20 AM on @KCBSRadio @Radiodotcom app &amp; smart speaker (say \"Play KCBS Radio\") https://t.co/uQsiOzNDpv\n"
     ]
    }
   ],
   "source": [
    "print(retweet['retweeted_status']['full_text'])"
   ]
  },
  {
   "cell_type": "markdown",
   "metadata": {},
   "source": [
    "Note that looking at the original text we solve both problems. First, we don't have the annoying \"RT @user\", which we had to remove to process the text; and second, we obtain a text which is no longer cut. Therefore, when we process retweets we will use the `full_text` field of the retweeted status, not the retweet itself. Now let's analyze quotes:"
   ]
  },
  {
   "cell_type": "code",
   "execution_count": 32,
   "metadata": {},
   "outputs": [
    {
     "name": "stdout",
     "output_type": "stream",
     "text": [
      "Dr. #Fauci says that the New York City #firefighters resistance to the vaccine is based on #misinformation just like other people in society who are fearful of the vaccine. #COVID19 https://t.co/Vys5fiNwjV\n",
      "[0, 181]\n"
     ]
    }
   ],
   "source": [
    "quote = tweets.find_one({'quoted_status': {'$exists': True}})\n",
    "print(quote['full_text'])\n",
    "print(quote['display_text_range'])"
   ]
  },
  {
   "cell_type": "markdown",
   "metadata": {},
   "source": [
    "It seems to be all right here. Taking into account that the text will make reference to a quoted tweet, when processing quotes we will also take into account the actual quoted text:"
   ]
  },
  {
   "cell_type": "code",
   "execution_count": 33,
   "metadata": {},
   "outputs": [
    {
     "name": "stdout",
     "output_type": "stream",
     "text": [
      "Over half of New York City firefighters would refuse COVID-19 vaccine, survey finds. https://t.co/2Dlqb3gDIW\n"
     ]
    }
   ],
   "source": [
    "print(quote['quoted_status']['full_text'])"
   ]
  },
  {
   "cell_type": "markdown",
   "metadata": {},
   "source": [
    "#### Tweet Language"
   ]
  },
  {
   "cell_type": "markdown",
   "metadata": {},
   "source": [
    "Let's see the distribution of languages in our tweets. We would expect mainly English and Spanish as we have specificaly used the word 'vaccine' in these languages. However, as we could not set the attribute 'lang' in the Twitter API query, we could have some tweets in other languages that used the same words."
   ]
  },
  {
   "cell_type": "code",
   "execution_count": 20,
   "metadata": {},
   "outputs": [
    {
     "name": "stdout",
     "output_type": "stream",
     "text": [
      "Lang         %       Acc %\n",
      "en      73.48%      73.48%\n",
      "es      21.87%      95.35%\n",
      "fr       1.31%      96.66%\n",
      "und      0.85%      97.51%\n",
      "hi       0.56%      98.07%\n",
      "ca       0.41%      98.48%\n",
      "tl       0.17%      98.65%\n",
      "in       0.17%      98.82%\n",
      "it       0.15%      98.97%\n",
      "pt       0.13%      99.10%\n"
     ]
    }
   ],
   "source": [
    "# Let's print the top 10 most used languages in tweets referring to Covid-19 vaccine\n",
    "pipeline = [\n",
    "    {'$group': {'_id': '$lang', 'count': {'$sum': 1}}},\n",
    "    {\"$sort\": SON([(\"count\", pymongo.DESCENDING)])},\n",
    "    {'$limit': 10}\n",
    "]\n",
    "res = tweets.aggregate(pipeline)\n",
    "acc = 0\n",
    "langs = []\n",
    "counts = []\n",
    "print('Lang         %       Acc %')\n",
    "for lang in res:\n",
    "    langs.append(lang['_id'])\n",
    "    counts.append(lang['count'])\n",
    "    acc += lang['count']\n",
    "    print('{:4s}    {:5.2f}%      {:5.2f}%'.format(lang['_id'], 100*lang['count']/n_tweets, 100*acc/n_tweets))"
   ]
  },
  {
   "cell_type": "markdown",
   "metadata": {},
   "source": [
    "This result is completely expected. On one side, there are more than triple the tweets in English than in Spanish, following a quite similar distribution than the one seen in the [previous language study](#lang_study). On the other side, there are some tweets (less than 5%) from other languages, in which they might have included the English word 'vaccine', for example.\n",
    "\n",
    "As this language attribute is provided in a best-effor manner, in further sections we will analyze it."
   ]
  },
  {
   "cell_type": "markdown",
   "metadata": {},
   "source": [
    "#### Geolocalization"
   ]
  },
  {
   "cell_type": "markdown",
   "metadata": {},
   "source": [
    "Being able to locate from where tweets were sent is an important part for the analysis we aim to perform. For this reason, let's see which information tweets contain."
   ]
  },
  {
   "cell_type": "markdown",
   "metadata": {},
   "source": [
    "Let's start by analyzing the field `coordinates`, and `geo` which is its deprecated field:"
   ]
  },
  {
   "cell_type": "code",
   "execution_count": 34,
   "metadata": {},
   "outputs": [
    {
     "name": "stdout",
     "output_type": "stream",
     "text": [
      "There are 142 tweets with coordinates, which corresponds to a 0.02%\n",
      "There are 142 tweets with geo, which corresponds to a 0.02%\n"
     ]
    }
   ],
   "source": [
    "have_coordinates = tweets.count_documents({'coordinates': {'$ne': None}})\n",
    "have_geo = tweets.count_documents({'geo': {'$ne': None}})\n",
    "print('There are {} tweets with coordinates, which corresponds to a {:.2f}%'.format(have_coordinates, 100*have_coordinates/n_tweets))\n",
    "print('There are {} tweets with geo, which corresponds to a {:.2f}%'.format(have_geo, 100*have_geo/n_tweets))"
   ]
  },
  {
   "cell_type": "markdown",
   "metadata": {},
   "source": [
    "Only a tiny part of the data has coordinates associated. Let's check the fact that these 142 tweets are actually the same:"
   ]
  },
  {
   "cell_type": "code",
   "execution_count": 35,
   "metadata": {},
   "outputs": [
    {
     "name": "stdout",
     "output_type": "stream",
     "text": [
      "142\n"
     ]
    }
   ],
   "source": [
    "geo_coordinates = tweets.count_documents({'coordinates': {'$ne': None}, 'geo': {'$ne': None}})\n",
    "print(geo_coordinates)"
   ]
  },
  {
   "cell_type": "markdown",
   "metadata": {},
   "source": [
    "They are actually the same! Let's analyze the `place` field now:"
   ]
  },
  {
   "cell_type": "code",
   "execution_count": 36,
   "metadata": {},
   "outputs": [
    {
     "name": "stdout",
     "output_type": "stream",
     "text": [
      "There are 5827 tweets with place, which corresponds to a 0.67%\n"
     ]
    }
   ],
   "source": [
    "have_place = tweets.count_documents({'place': {'$ne': None}})\n",
    "print('There are {} tweets with place, which corresponds to a {:.2f}%'.format(have_place, 100*have_place/n_tweets))"
   ]
  },
  {
   "cell_type": "markdown",
   "metadata": {},
   "source": [
    "Slightly better, but not that much. Let's check if there is any overlap within tweets containing `place` and `coordinates`."
   ]
  },
  {
   "cell_type": "code",
   "execution_count": 37,
   "metadata": {
    "scrolled": true
   },
   "outputs": [
    {
     "name": "stdout",
     "output_type": "stream",
     "text": [
      "142\n"
     ]
    }
   ],
   "source": [
    "place_coordinates = tweets.count_documents({'place': {'$ne': None}, 'coordinates': {'$ne': None}})\n",
    "print(place_coordinates)"
   ]
  },
  {
   "cell_type": "markdown",
   "metadata": {},
   "source": [
    "All tweets with coordinates also have place. Therefore we have a total of 5827 tweets, a 0.67% of all, with geolocalization. This is obviously useless to perform a decent study. For this reason, let's check the field `user.location`, in which each user can write anything, hoping to find valuable information:"
   ]
  },
  {
   "cell_type": "code",
   "execution_count": 48,
   "metadata": {},
   "outputs": [
    {
     "name": "stdout",
     "output_type": "stream",
     "text": [
      "Count      Location\n",
      "264872     \n",
      "  9685     United States\n",
      "  7606     México\n",
      "  6368     Washington, DC\n",
      "  5132     India\n",
      "  4802     New York, NY\n",
      "  4633     Canada\n",
      "  4391     കേരളം\n",
      "  4335     California, USA\n",
      "  4179     London, England\n",
      "  4135     USA\n",
      "  3525     London\n",
      "  3451     United Kingdom\n",
      "  3448     Los Angeles, CA\n",
      "  3423     Ecuador\n",
      "  2647     Boston, MA\n",
      "  2445     Toronto, Ontario\n",
      "  2442     Chicago, IL\n",
      "  2303     España\n",
      "  2243     Florida, USA\n",
      "  2121     New Delhi, India\n",
      "  2044     UK\n",
      "  1911     Ciudad de México\n",
      "  1864     New York, USA\n",
      "  1835     Toronto\n"
     ]
    }
   ],
   "source": [
    "pipeline = [\n",
    "    {'$group': {'_id': '$user.location', 'count': {'$sum': 1}}},\n",
    "    {\"$sort\": SON([(\"count\", pymongo.DESCENDING)])},\n",
    "    {'$limit': 25}\n",
    "]\n",
    "res = tweets.aggregate(pipeline)\n",
    "\n",
    "locations = []\n",
    "counts = []\n",
    "print('Count      Location')\n",
    "for loc in res:\n",
    "    locations.append(loc['_id'])\n",
    "    counts.append(loc['count'])\n",
    "    print('{:6d}     {}'.format(loc['count'], loc['_id']))\n",
    "locations.append('others')\n",
    "counts.append(n_tweets - sum(counts))"
   ]
  },
  {
   "cell_type": "code",
   "execution_count": 50,
   "metadata": {},
   "outputs": [
    {
     "data": {
      "image/png": "[encoded data removed]",
      "text/plain": [
       "<Figure size 432x288 with 1 Axes>"
      ]
     },
     "metadata": {
      "needs_background": "light"
     },
     "output_type": "display_data"
    }
   ],
   "source": [
    "barplot(locations, counts, 'Most common user locations', 'locations', 'tweet count', 90)"
   ]
  },
  {
   "cell_type": "markdown",
   "metadata": {},
   "source": [
    "The first thing we can see is that 30% of tweets don't contain any information, these users have left the field blank. Furthermore, the non-blank most repeated string is 'United States', but it is included in 'only' 1.1% of the tweets. 'Toronto', which is the top-25 most used location appears in only 0.2% of the tweets. Therefore, the distribution is quite flat over many many different strings (as can be seen in the right-most bar of the plot). Note also that different strings can refer to the same location entity: 'United States' and 'USA', for example."
   ]
  },
  {
   "cell_type": "markdown",
   "metadata": {},
   "source": [
    "Therefore, we can conclude that the field `user.location` contains valuable information (the top-25 list shows human-readable known locations), but there is much work to normalize them and obtain value from data."
   ]
  },
  {
   "cell_type": "markdown",
   "metadata": {},
   "source": [
    "## 4. Data Cleaning"
   ]
  },
  {
   "cell_type": "markdown",
   "metadata": {},
   "source": [
    "Restricted users ....."
   ]
  },
  {
   "cell_type": "markdown",
   "metadata": {},
   "source": [
    "Mirar si fer algo a lang (utilitzant langid)"
   ]
  },
  {
   "cell_type": "markdown",
   "metadata": {},
   "source": [
    "Carmen"
   ]
  },
  {
   "cell_type": "markdown",
   "metadata": {},
   "source": [
    "## 5. Analisys"
   ]
  },
  {
   "cell_type": "code",
   "execution_count": null,
   "metadata": {},
   "outputs": [],
   "source": []
  },
  {
   "cell_type": "code",
   "execution_count": null,
   "metadata": {},
   "outputs": [],
   "source": []
  },
  {
   "cell_type": "markdown",
   "metadata": {},
   "source": [
    "**Count the total number of tweets on the database and the number of tweets with geolocation**"
   ]
  },
  {
   "cell_type": "code",
   "execution_count": 16,
   "metadata": {},
   "outputs": [
    {
     "name": "stdout",
     "output_type": "stream",
     "text": [
      "Total number of tweets: 68822\n"
     ]
    }
   ],
   "source": [
    "print(\"Total number of tweets:\", tweets.count_documents({}))"
   ]
  },
  {
   "cell_type": "code",
   "execution_count": 26,
   "metadata": {},
   "outputs": [
    {
     "name": "stdout",
     "output_type": "stream",
     "text": [
      "Number of tweets with geolocation: 931\n"
     ]
    }
   ],
   "source": [
    "count_with_geo = tweets.count_documents({'$or': [\n",
    "                                                {'geo': {'$ne': None}}, \n",
    "                                                {'coordinates': {'$ne': None}},\n",
    "                                                {'place': {'$ne': None}}\n",
    "                                        ]},{})\n",
    "print(\"Number of tweets with geolocation:\", count_with_geo)"
   ]
  },
  {
   "cell_type": "markdown",
   "metadata": {},
   "source": [
    "**Top 25 vaccine related hashtags**"
   ]
  },
  {
   "cell_type": "code",
   "execution_count": 37,
   "metadata": {},
   "outputs": [
    {
     "name": "stdout",
     "output_type": "stream",
     "text": [
      "{'_id': 'vaccine', 'count': 42747}\n",
      "{'_id': 'COVID19', 'count': 15302}\n",
      "{'_id': 'Vaccine', 'count': 9458}\n",
      "{'_id': 'coronavirus', 'count': 3461}\n",
      "{'_id': 'COVID', 'count': 3160}\n",
      "{'_id': 'Covid', 'count': 3068}\n",
      "{'_id': 'Pfizer', 'count': 2682}\n",
      "{'_id': 'Covid19', 'count': 2489}\n",
      "{'_id': 'CovidVaccine', 'count': 2459}\n",
      "{'_id': 'patents', 'count': 1854}\n",
      "{'_id': 'COVIDー19', 'count': 1818}\n",
      "{'_id': 'covid19', 'count': 1412}\n",
      "{'_id': 'AstraZeneca', 'count': 1315}\n",
      "{'_id': 'vaccination', 'count': 1207}\n",
      "{'_id': 'covid', 'count': 1167}\n",
      "{'_id': 'UK', 'count': 1123}\n",
      "{'_id': 'BillGates', 'count': 962}\n",
      "{'_id': 'pandemic', 'count': 794}\n",
      "{'_id': 'Vaccination', 'count': 789}\n",
      "{'_id': 'cdc', 'count': 783}\n",
      "{'_id': 'Moderna', 'count': 777}\n",
      "{'_id': 'vaccines', 'count': 766}\n",
      "{'_id': 'GatesFoundation', 'count': 736}\n",
      "{'_id': 'UN', 'count': 721}\n",
      "{'_id': 'GAVI', 'count': 718}\n"
     ]
    }
   ],
   "source": [
    "from bson.son import SON\n",
    "\n",
    "pipeline = [\n",
    "        {'$unwind': \"$entities.hashtags\" },\n",
    "        {'$group': {'_id': '$entities.hashtags.text', 'count': {'$sum': 1}}},\n",
    "        {\"$sort\": SON([(\"count\", pymongo.DESCENDING)])},\n",
    "        {'$limit': 25}\n",
    "    ]\n",
    "\n",
    "res = tweets.aggregate(pipeline)\n",
    "for sample in res:\n",
    "    print(sample)"
   ]
  },
  {
   "cell_type": "code",
   "execution_count": null,
   "metadata": {},
   "outputs": [],
   "source": []
  },
  {
   "cell_type": "code",
   "execution_count": null,
   "metadata": {},
   "outputs": [],
   "source": []
  },
  {
   "cell_type": "code",
   "execution_count": null,
   "metadata": {},
   "outputs": [],
   "source": []
  },
  {
   "cell_type": "code",
   "execution_count": 2,
   "metadata": {},
   "outputs": [
    {
     "name": "stdout",
     "output_type": "stream",
     "text": [
      "721077\n"
     ]
    }
   ],
   "source": [
    "r = tweets.count_documents({})\n",
    "print(r)"
   ]
  },
  {
   "cell_type": "code",
   "execution_count": 4,
   "metadata": {},
   "outputs": [
    {
     "name": "stdout",
     "output_type": "stream",
     "text": [
      "4980 0.6906335939157676\n",
      "108 0.014977596012631106\n",
      "108 0.014977596012631106\n"
     ]
    }
   ],
   "source": [
    "have_place = tweets.count_documents({'place': {'$ne': None}})\n",
    "have_geo = tweets.count_documents({'geo': {'$ne': None}})\n",
    "have_coordinates = tweets.count_documents({'coordinates': {'$ne': None}})\n",
    "print(have_place, 100*have_place/r)\n",
    "print(have_geo, 100*have_geo/r)\n",
    "print(have_coordinates, 100*have_coordinates/r)"
   ]
  },
  {
   "cell_type": "code",
   "execution_count": 5,
   "metadata": {},
   "outputs": [
    {
     "name": "stdout",
     "output_type": "stream",
     "text": [
      "504936 70.02525389105463\n"
     ]
    }
   ],
   "source": [
    "have_user_loc = tweets.count_documents({'user.location': {'$ne': ''}})\n",
    "print(have_user_loc, 100*have_user_loc/r)"
   ]
  },
  {
   "cell_type": "code",
   "execution_count": 6,
   "metadata": {},
   "outputs": [
    {
     "name": "stdout",
     "output_type": "stream",
     "text": [
      "353979 49.0903190643995\n"
     ]
    }
   ],
   "source": [
    "have_my_geo = tweets.count_documents({'my_geo': {'$ne': None}})\n",
    "print(have_my_geo, 100*have_my_geo/r)"
   ]
  },
  {
   "cell_type": "code",
   "execution_count": 13,
   "metadata": {},
   "outputs": [
    {
     "name": "stdout",
     "output_type": "stream",
     "text": [
      "{'_id': 'en', 'count': 531462}\n",
      "{'_id': 'es', 'count': 106193}\n",
      "{'_id': 'fr', 'count': 57837}\n",
      "{'_id': 'und', 'count': 7199}\n",
      "{'_id': 'hi', 'count': 3637}\n",
      "{'_id': 'nl', 'count': 2285}\n",
      "{'_id': 'ca', 'count': 1801}\n",
      "{'_id': 'in', 'count': 1378}\n",
      "{'_id': 'tl', 'count': 1190}\n",
      "{'_id': 'pt', 'count': 963}\n"
     ]
    }
   ],
   "source": [
    "pip = [\n",
    "    {'$group': {'_id': '$lang', 'count': {'$sum': 1}}},\n",
    "    {'$sort': SON([('count', pymongo.DESCENDING)])},\n",
    "    {'$limit': 10}\n",
    "]\n",
    "languages = tweets.aggregate(pip)\n",
    "for lang in languages:\n",
    "    print(lang)"
   ]
  },
  {
   "cell_type": "code",
   "execution_count": 14,
   "metadata": {},
   "outputs": [
    {
     "name": "stdout",
     "output_type": "stream",
     "text": [
      "{'_id': 'United States', 'count': 177805}\n",
      "{'_id': 'United Kingdom', 'count': 32726}\n",
      "{'_id': 'Canada', 'count': 24412}\n",
      "{'_id': 'India', 'count': 17992}\n",
      "{'_id': 'France', 'count': 16476}\n",
      "{'_id': 'Mexico', 'count': 8866}\n",
      "{'_id': 'Spain', 'count': 7249}\n",
      "{'_id': 'Ecuador', 'count': 5053}\n",
      "{'_id': 'Australia', 'count': 3793}\n",
      "{'_id': 'Germany', 'count': 3237}\n"
     ]
    }
   ],
   "source": [
    "pip = [\n",
    "    {'$match': {'my_geo': {'$ne': None}}},\n",
    "    {'$group': {'_id': '$my_geo.country', 'count': {'$sum': 1}}},\n",
    "    {'$sort': SON([('count', pymongo.DESCENDING)])},\n",
    "    {'$limit': 10}\n",
    "]\n",
    "countries = tweets.aggregate(pip)\n",
    "for country in countries:\n",
    "    print(country)"
   ]
  }
 ],
 "metadata": {
  "kernelspec": {
   "display_name": "Python 3",
   "language": "python",
   "name": "python3"
  },
  "language_info": {
   "codemirror_mode": {
    "name": "ipython",
    "version": 3
   },
   "file_extension": ".py",
   "mimetype": "text/x-python",
   "name": "python",
   "nbconvert_exporter": "python",
   "pygments_lexer": "ipython3",
   "version": "3.9.0"
  }
 },
 "nbformat": 4,
 "nbformat_minor": 2
}
